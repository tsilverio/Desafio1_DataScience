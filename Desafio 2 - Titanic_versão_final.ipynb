{
  "nbformat": 4,
  "nbformat_minor": 0,
  "metadata": {
    "colab": {
      "name": "Titanic versão final.ipynb",
      "provenance": [],
      "include_colab_link": true
    },
    "kernelspec": {
      "name": "python3",
      "display_name": "Python 3"
    }
  },
  "cells": [
    {
      "cell_type": "markdown",
      "metadata": {
        "id": "view-in-github",
        "colab_type": "text"
      },
      "source": [
        "<a href=\"https://colab.research.google.com/github/tsilverio/Desafio1_DataScience/blob/master/Desafio%202%20-%20Titanic_vers%C3%A3o_final.ipynb\" target=\"_parent\"><img src=\"https://colab.research.google.com/assets/colab-badge.svg\" alt=\"Open In Colab\"/></a>"
      ]
    },
    {
      "cell_type": "markdown",
      "metadata": {
        "id": "3JMQ9h5mYN7Z",
        "colab_type": "text"
      },
      "source": [
        "#Carregando e preparando os dados"
      ]
    },
    {
      "cell_type": "markdown",
      "metadata": {
        "id": "7vULH2K4nmzQ",
        "colab_type": "text"
      },
      "source": [
        "##Montando google drive"
      ]
    },
    {
      "cell_type": "code",
      "metadata": {
        "id": "jU03W1biJf6o",
        "colab_type": "code",
        "outputId": "fd47777c-3dba-4d19-ba94-094330b27e9f",
        "colab": {
          "base_uri": "https://localhost:8080/",
          "height": 125
        }
      },
      "source": [
        "from google.colab import drive\n",
        "drive.mount('/content/drive')"
      ],
      "execution_count": 3,
      "outputs": [
        {
          "output_type": "stream",
          "text": [
            "Go to this URL in a browser: https://accounts.google.com/o/oauth2/auth?client_id=947318989803-6bn6qk8qdgf4n4g3pfee6491hc0brc4i.apps.googleusercontent.com&redirect_uri=urn%3Aietf%3Awg%3Aoauth%3A2.0%3Aoob&scope=email%20https%3A%2F%2Fwww.googleapis.com%2Fauth%2Fdocs.test%20https%3A%2F%2Fwww.googleapis.com%2Fauth%2Fdrive%20https%3A%2F%2Fwww.googleapis.com%2Fauth%2Fdrive.photos.readonly%20https%3A%2F%2Fwww.googleapis.com%2Fauth%2Fpeopleapi.readonly&response_type=code\n",
            "\n",
            "Enter your authorization code:\n",
            "··········\n",
            "Mounted at /content/drive\n"
          ],
          "name": "stdout"
        }
      ]
    },
    {
      "cell_type": "markdown",
      "metadata": {
        "id": "VCW3OLubnuBg",
        "colab_type": "text"
      },
      "source": [
        "##Importando bibliotecas"
      ]
    },
    {
      "cell_type": "code",
      "metadata": {
        "id": "ewUIwKHbL91s",
        "colab_type": "code",
        "colab": {}
      },
      "source": [
        "import warnings\n",
        "warnings.filterwarnings(\"ignore\")\n",
        "\n",
        "import numpy as np\n",
        "import pandas as pd\n",
        "import matplotlib as mpl\n",
        "import matplotlib.pyplot as plt\n",
        "\n",
        "\n",
        "from sklearn.ensemble import ExtraTreesClassifier\n",
        "from sklearn.ensemble import RandomForestClassifier\n",
        "from sklearn.ensemble import RandomForestRegressor\n",
        "from sklearn.linear_model import LogisticRegression\n",
        "\n",
        "from sklearn.model_selection import train_test_split\n",
        "from sklearn.model_selection import KFold\n",
        "\n",
        "from sklearn.metrics import mean_absolute_error\n",
        "from sklearn.metrics import roc_curve, auc\n",
        "from sklearn.metrics import accuracy_score, precision_score, recall_score,confusion_matrix, precision_recall_curve\n",
        "from imblearn.over_sampling import SMOTE\n",
        "\n",
        "from matplotlib.legend_handler import HandlerLine2D\n",
        "\n",
        "#sobreviveu 0 = No, 1 = Yes\n",
        "#grid search\n",
        "#criar dummy para quem viaja sozinho\n",
        "#colocar media de idade por homem sobrevivente e mulher sobrevivente\n",
        "#agrupar cabines em ab cd efg"
      ],
      "execution_count": 0,
      "outputs": []
    },
    {
      "cell_type": "markdown",
      "metadata": {
        "id": "6gL1A_BJcS5p",
        "colab_type": "text"
      },
      "source": [
        "## Importando os arquivos"
      ]
    },
    {
      "cell_type": "code",
      "metadata": {
        "id": "Rr5Zq12wSDx5",
        "colab_type": "code",
        "colab": {}
      },
      "source": [
        "train_data = pd.read_csv(\"/content/drive/My Drive/Titanic/train.csv\")\n"
      ],
      "execution_count": 0,
      "outputs": []
    },
    {
      "cell_type": "code",
      "metadata": {
        "id": "T5jkz43nSM1M",
        "colab_type": "code",
        "colab": {}
      },
      "source": [
        "test_data = pd.read_csv(\"/content/drive/My Drive/Titanic/test.csv\")\n"
      ],
      "execution_count": 0,
      "outputs": []
    },
    {
      "cell_type": "markdown",
      "metadata": {
        "id": "mTg_egq8_sWH",
        "colab_type": "text"
      },
      "source": [
        "###Verificando o dataframe antes das transformações"
      ]
    },
    {
      "cell_type": "code",
      "metadata": {
        "id": "Ti73gCzU_wmv",
        "colab_type": "code",
        "outputId": "bbc427b0-e562-494e-d0ac-0b6a9f8036ba",
        "colab": {
          "base_uri": "https://localhost:8080/",
          "height": 359
        }
      },
      "source": [
        "train_data.head(10)"
      ],
      "execution_count": 0,
      "outputs": [
        {
          "output_type": "execute_result",
          "data": {
            "text/html": [
              "<div>\n",
              "<style scoped>\n",
              "    .dataframe tbody tr th:only-of-type {\n",
              "        vertical-align: middle;\n",
              "    }\n",
              "\n",
              "    .dataframe tbody tr th {\n",
              "        vertical-align: top;\n",
              "    }\n",
              "\n",
              "    .dataframe thead th {\n",
              "        text-align: right;\n",
              "    }\n",
              "</style>\n",
              "<table border=\"1\" class=\"dataframe\">\n",
              "  <thead>\n",
              "    <tr style=\"text-align: right;\">\n",
              "      <th></th>\n",
              "      <th>PassengerId</th>\n",
              "      <th>Survived</th>\n",
              "      <th>Pclass</th>\n",
              "      <th>Name</th>\n",
              "      <th>Sex</th>\n",
              "      <th>Age</th>\n",
              "      <th>SibSp</th>\n",
              "      <th>Parch</th>\n",
              "      <th>Ticket</th>\n",
              "      <th>Fare</th>\n",
              "      <th>Cabin</th>\n",
              "      <th>Embarked</th>\n",
              "    </tr>\n",
              "  </thead>\n",
              "  <tbody>\n",
              "    <tr>\n",
              "      <th>0</th>\n",
              "      <td>1</td>\n",
              "      <td>0</td>\n",
              "      <td>3</td>\n",
              "      <td>Braund, Mr. Owen Harris</td>\n",
              "      <td>male</td>\n",
              "      <td>22.0</td>\n",
              "      <td>1</td>\n",
              "      <td>0</td>\n",
              "      <td>A/5 21171</td>\n",
              "      <td>7.2500</td>\n",
              "      <td>NaN</td>\n",
              "      <td>S</td>\n",
              "    </tr>\n",
              "    <tr>\n",
              "      <th>1</th>\n",
              "      <td>2</td>\n",
              "      <td>1</td>\n",
              "      <td>1</td>\n",
              "      <td>Cumings, Mrs. John Bradley (Florence Briggs Th...</td>\n",
              "      <td>female</td>\n",
              "      <td>38.0</td>\n",
              "      <td>1</td>\n",
              "      <td>0</td>\n",
              "      <td>PC 17599</td>\n",
              "      <td>71.2833</td>\n",
              "      <td>C85</td>\n",
              "      <td>C</td>\n",
              "    </tr>\n",
              "    <tr>\n",
              "      <th>2</th>\n",
              "      <td>3</td>\n",
              "      <td>1</td>\n",
              "      <td>3</td>\n",
              "      <td>Heikkinen, Miss. Laina</td>\n",
              "      <td>female</td>\n",
              "      <td>26.0</td>\n",
              "      <td>0</td>\n",
              "      <td>0</td>\n",
              "      <td>STON/O2. 3101282</td>\n",
              "      <td>7.9250</td>\n",
              "      <td>NaN</td>\n",
              "      <td>S</td>\n",
              "    </tr>\n",
              "    <tr>\n",
              "      <th>3</th>\n",
              "      <td>4</td>\n",
              "      <td>1</td>\n",
              "      <td>1</td>\n",
              "      <td>Futrelle, Mrs. Jacques Heath (Lily May Peel)</td>\n",
              "      <td>female</td>\n",
              "      <td>35.0</td>\n",
              "      <td>1</td>\n",
              "      <td>0</td>\n",
              "      <td>113803</td>\n",
              "      <td>53.1000</td>\n",
              "      <td>C123</td>\n",
              "      <td>S</td>\n",
              "    </tr>\n",
              "    <tr>\n",
              "      <th>4</th>\n",
              "      <td>5</td>\n",
              "      <td>0</td>\n",
              "      <td>3</td>\n",
              "      <td>Allen, Mr. William Henry</td>\n",
              "      <td>male</td>\n",
              "      <td>35.0</td>\n",
              "      <td>0</td>\n",
              "      <td>0</td>\n",
              "      <td>373450</td>\n",
              "      <td>8.0500</td>\n",
              "      <td>NaN</td>\n",
              "      <td>S</td>\n",
              "    </tr>\n",
              "    <tr>\n",
              "      <th>5</th>\n",
              "      <td>6</td>\n",
              "      <td>0</td>\n",
              "      <td>3</td>\n",
              "      <td>Moran, Mr. James</td>\n",
              "      <td>male</td>\n",
              "      <td>NaN</td>\n",
              "      <td>0</td>\n",
              "      <td>0</td>\n",
              "      <td>330877</td>\n",
              "      <td>8.4583</td>\n",
              "      <td>NaN</td>\n",
              "      <td>Q</td>\n",
              "    </tr>\n",
              "    <tr>\n",
              "      <th>6</th>\n",
              "      <td>7</td>\n",
              "      <td>0</td>\n",
              "      <td>1</td>\n",
              "      <td>McCarthy, Mr. Timothy J</td>\n",
              "      <td>male</td>\n",
              "      <td>54.0</td>\n",
              "      <td>0</td>\n",
              "      <td>0</td>\n",
              "      <td>17463</td>\n",
              "      <td>51.8625</td>\n",
              "      <td>E46</td>\n",
              "      <td>S</td>\n",
              "    </tr>\n",
              "    <tr>\n",
              "      <th>7</th>\n",
              "      <td>8</td>\n",
              "      <td>0</td>\n",
              "      <td>3</td>\n",
              "      <td>Palsson, Master. Gosta Leonard</td>\n",
              "      <td>male</td>\n",
              "      <td>2.0</td>\n",
              "      <td>3</td>\n",
              "      <td>1</td>\n",
              "      <td>349909</td>\n",
              "      <td>21.0750</td>\n",
              "      <td>NaN</td>\n",
              "      <td>S</td>\n",
              "    </tr>\n",
              "    <tr>\n",
              "      <th>8</th>\n",
              "      <td>9</td>\n",
              "      <td>1</td>\n",
              "      <td>3</td>\n",
              "      <td>Johnson, Mrs. Oscar W (Elisabeth Vilhelmina Berg)</td>\n",
              "      <td>female</td>\n",
              "      <td>27.0</td>\n",
              "      <td>0</td>\n",
              "      <td>2</td>\n",
              "      <td>347742</td>\n",
              "      <td>11.1333</td>\n",
              "      <td>NaN</td>\n",
              "      <td>S</td>\n",
              "    </tr>\n",
              "    <tr>\n",
              "      <th>9</th>\n",
              "      <td>10</td>\n",
              "      <td>1</td>\n",
              "      <td>2</td>\n",
              "      <td>Nasser, Mrs. Nicholas (Adele Achem)</td>\n",
              "      <td>female</td>\n",
              "      <td>14.0</td>\n",
              "      <td>1</td>\n",
              "      <td>0</td>\n",
              "      <td>237736</td>\n",
              "      <td>30.0708</td>\n",
              "      <td>NaN</td>\n",
              "      <td>C</td>\n",
              "    </tr>\n",
              "  </tbody>\n",
              "</table>\n",
              "</div>"
            ],
            "text/plain": [
              "   PassengerId  Survived  Pclass  ...     Fare Cabin  Embarked\n",
              "0            1         0       3  ...   7.2500   NaN         S\n",
              "1            2         1       1  ...  71.2833   C85         C\n",
              "2            3         1       3  ...   7.9250   NaN         S\n",
              "3            4         1       1  ...  53.1000  C123         S\n",
              "4            5         0       3  ...   8.0500   NaN         S\n",
              "5            6         0       3  ...   8.4583   NaN         Q\n",
              "6            7         0       1  ...  51.8625   E46         S\n",
              "7            8         0       3  ...  21.0750   NaN         S\n",
              "8            9         1       3  ...  11.1333   NaN         S\n",
              "9           10         1       2  ...  30.0708   NaN         C\n",
              "\n",
              "[10 rows x 12 columns]"
            ]
          },
          "metadata": {
            "tags": []
          },
          "execution_count": 245
        }
      ]
    },
    {
      "cell_type": "code",
      "metadata": {
        "id": "w3nrk9nO_yvm",
        "colab_type": "code",
        "outputId": "aacf2b6a-fccf-478a-c0d1-11bf93ddacac",
        "colab": {
          "base_uri": "https://localhost:8080/",
          "height": 204
        }
      },
      "source": [
        "test_data.head()"
      ],
      "execution_count": 0,
      "outputs": [
        {
          "output_type": "execute_result",
          "data": {
            "text/html": [
              "<div>\n",
              "<style scoped>\n",
              "    .dataframe tbody tr th:only-of-type {\n",
              "        vertical-align: middle;\n",
              "    }\n",
              "\n",
              "    .dataframe tbody tr th {\n",
              "        vertical-align: top;\n",
              "    }\n",
              "\n",
              "    .dataframe thead th {\n",
              "        text-align: right;\n",
              "    }\n",
              "</style>\n",
              "<table border=\"1\" class=\"dataframe\">\n",
              "  <thead>\n",
              "    <tr style=\"text-align: right;\">\n",
              "      <th></th>\n",
              "      <th>PassengerId</th>\n",
              "      <th>Pclass</th>\n",
              "      <th>Name</th>\n",
              "      <th>Sex</th>\n",
              "      <th>Age</th>\n",
              "      <th>SibSp</th>\n",
              "      <th>Parch</th>\n",
              "      <th>Ticket</th>\n",
              "      <th>Fare</th>\n",
              "      <th>Cabin</th>\n",
              "      <th>Embarked</th>\n",
              "      <th>Tamanho_nome</th>\n",
              "    </tr>\n",
              "  </thead>\n",
              "  <tbody>\n",
              "    <tr>\n",
              "      <th>0</th>\n",
              "      <td>892</td>\n",
              "      <td>3</td>\n",
              "      <td>Kelly, Mr. James</td>\n",
              "      <td>male</td>\n",
              "      <td>34.5</td>\n",
              "      <td>0</td>\n",
              "      <td>0</td>\n",
              "      <td>330911</td>\n",
              "      <td>7.8292</td>\n",
              "      <td>NaN</td>\n",
              "      <td>Q</td>\n",
              "      <td>16</td>\n",
              "    </tr>\n",
              "    <tr>\n",
              "      <th>1</th>\n",
              "      <td>893</td>\n",
              "      <td>3</td>\n",
              "      <td>Wilkes, Mrs. James (Ellen Needs)</td>\n",
              "      <td>female</td>\n",
              "      <td>47.0</td>\n",
              "      <td>1</td>\n",
              "      <td>0</td>\n",
              "      <td>363272</td>\n",
              "      <td>7.0000</td>\n",
              "      <td>NaN</td>\n",
              "      <td>S</td>\n",
              "      <td>32</td>\n",
              "    </tr>\n",
              "    <tr>\n",
              "      <th>2</th>\n",
              "      <td>894</td>\n",
              "      <td>2</td>\n",
              "      <td>Myles, Mr. Thomas Francis</td>\n",
              "      <td>male</td>\n",
              "      <td>62.0</td>\n",
              "      <td>0</td>\n",
              "      <td>0</td>\n",
              "      <td>240276</td>\n",
              "      <td>9.6875</td>\n",
              "      <td>NaN</td>\n",
              "      <td>Q</td>\n",
              "      <td>25</td>\n",
              "    </tr>\n",
              "    <tr>\n",
              "      <th>3</th>\n",
              "      <td>895</td>\n",
              "      <td>3</td>\n",
              "      <td>Wirz, Mr. Albert</td>\n",
              "      <td>male</td>\n",
              "      <td>27.0</td>\n",
              "      <td>0</td>\n",
              "      <td>0</td>\n",
              "      <td>315154</td>\n",
              "      <td>8.6625</td>\n",
              "      <td>NaN</td>\n",
              "      <td>S</td>\n",
              "      <td>16</td>\n",
              "    </tr>\n",
              "    <tr>\n",
              "      <th>4</th>\n",
              "      <td>896</td>\n",
              "      <td>3</td>\n",
              "      <td>Hirvonen, Mrs. Alexander (Helga E Lindqvist)</td>\n",
              "      <td>female</td>\n",
              "      <td>22.0</td>\n",
              "      <td>1</td>\n",
              "      <td>1</td>\n",
              "      <td>3101298</td>\n",
              "      <td>12.2875</td>\n",
              "      <td>NaN</td>\n",
              "      <td>S</td>\n",
              "      <td>44</td>\n",
              "    </tr>\n",
              "  </tbody>\n",
              "</table>\n",
              "</div>"
            ],
            "text/plain": [
              "   PassengerId Pclass  ... Embarked Tamanho_nome\n",
              "0          892      3  ...        Q           16\n",
              "1          893      3  ...        S           32\n",
              "2          894      2  ...        Q           25\n",
              "3          895      3  ...        S           16\n",
              "4          896      3  ...        S           44\n",
              "\n",
              "[5 rows x 12 columns]"
            ]
          },
          "metadata": {
            "tags": []
          },
          "execution_count": 33
        }
      ]
    },
    {
      "cell_type": "code",
      "metadata": {
        "id": "BwHGYk1Z4ZUd",
        "colab_type": "code",
        "colab": {}
      },
      "source": [
        "train_data[\"Survived\"] = train_data[\"Survived\"].astype(float) ##quando não estava conseguindo a acurácia com decimal"
      ],
      "execution_count": 0,
      "outputs": []
    },
    {
      "cell_type": "code",
      "metadata": {
        "id": "5rKawBZJd8ut",
        "colab_type": "code",
        "outputId": "3ada9c25-00cc-4304-919e-867247cd3255",
        "colab": {
          "base_uri": "https://localhost:8080/",
          "height": 323
        }
      },
      "source": [
        "train_data['Cabin'].unique()"
      ],
      "execution_count": 0,
      "outputs": [
        {
          "output_type": "execute_result",
          "data": {
            "text/plain": [
              "array([0, 'C85', 'C123', 'E46', 'G6', 'C103', 'D56', 'A6', 'C23 C25 C27',\n",
              "       'B78', 'D33', 'B30', 'C52', 'B28', 'C83', 'F33', 'F G73', 'E31',\n",
              "       'A5', 'D10 D12', 'D26', 'C110', 'B58 B60', 'E101', 'F E69', 'D47',\n",
              "       'B86', 'F2', 'C2', 'E33', 'B19', 'A7', 'C49', 'F4', 'A32', 'B4',\n",
              "       'B80', 'A31', 'D36', 'D15', 'C93', 'C78', 'D35', 'C87', 'B77',\n",
              "       'E67', 'B94', 'C125', 'C99', 'C118', 'D7', 'A19', 'B49', 'D',\n",
              "       'C22 C26', 'C106', 'C65', 'E36', 'C54', 'B57 B59 B63 B66', 'C7',\n",
              "       'E34', 'C32', 'B18', 'C124', 'C91', 'E40', 'T', 'C128', 'D37',\n",
              "       'B35', 'E50', 'C82', 'B96 B98', 'E10', 'E44', 'A34', 'C104',\n",
              "       'C111', 'C92', 'E38', 'D21', 'E12', 'E63', 'A14', 'B37', 'C30',\n",
              "       'D20', 'B79', 'E25', 'D46', 'B73', 'C95', 'B38', 'B39', 'B22',\n",
              "       'C86', 'C70', 'A16', 'C101', 'C68', 'A10', 'E68', 'B41', 'A20',\n",
              "       'D19', 'D50', 'D9', 'A23', 'B50', 'A26', 'D48', 'E58', 'C126',\n",
              "       'B71', 'B51 B53 B55', 'D49', 'B5', 'B20', 'F G63', 'C62 C64',\n",
              "       'E24', 'C90', 'C45', 'E8', 'B101', 'D45', 'C46', 'D30', 'E121',\n",
              "       'D11', 'E77', 'F38', 'B3', 'D6', 'B82 B84', 'D17', 'A36', 'B102',\n",
              "       'B69', 'E49', 'C47', 'D28', 'E17', 'A24', 'C50', 'B42', 'C148'],\n",
              "      dtype=object)"
            ]
          },
          "metadata": {
            "tags": []
          },
          "execution_count": 54
        }
      ]
    },
    {
      "cell_type": "code",
      "metadata": {
        "id": "jwjwu2ffJss0",
        "colab_type": "code",
        "outputId": "5d7e1c80-2d3a-4568-8ac3-ce7bd74b011c",
        "colab": {
          "base_uri": "https://localhost:8080/",
          "height": 68
        }
      },
      "source": [
        "train_data['Cabin'].isnull().value_counts()"
      ],
      "execution_count": 0,
      "outputs": [
        {
          "output_type": "execute_result",
          "data": {
            "text/plain": [
              "True     687\n",
              "False    204\n",
              "Name: Cabin, dtype: int64"
            ]
          },
          "metadata": {
            "tags": []
          },
          "execution_count": 247
        }
      ]
    },
    {
      "cell_type": "code",
      "metadata": {
        "id": "g_QQhWA4OsFq",
        "colab_type": "code",
        "outputId": "23345c24-2847-42f6-d2ab-085c3f5bd769",
        "colab": {
          "base_uri": "https://localhost:8080/",
          "height": 51
        }
      },
      "source": [
        "train_data['Fare'].isnull().value_counts()"
      ],
      "execution_count": 0,
      "outputs": [
        {
          "output_type": "execute_result",
          "data": {
            "text/plain": [
              "False    891\n",
              "Name: Fare, dtype: int64"
            ]
          },
          "metadata": {
            "tags": []
          },
          "execution_count": 248
        }
      ]
    },
    {
      "cell_type": "code",
      "metadata": {
        "id": "cBF60198JzSu",
        "colab_type": "code",
        "outputId": "1914894d-9c50-49f9-c6e5-e18becbb0499",
        "colab": {
          "base_uri": "https://localhost:8080/",
          "height": 238
        }
      },
      "source": [
        "train_data.groupby('Cabin').size()"
      ],
      "execution_count": 0,
      "outputs": [
        {
          "output_type": "execute_result",
          "data": {
            "text/plain": [
              "Cabin\n",
              "A10    1\n",
              "A14    1\n",
              "A16    1\n",
              "A19    1\n",
              "A20    1\n",
              "      ..\n",
              "F33    3\n",
              "F38    1\n",
              "F4     2\n",
              "G6     4\n",
              "T      1\n",
              "Length: 147, dtype: int64"
            ]
          },
          "metadata": {
            "tags": []
          },
          "execution_count": 246
        }
      ]
    },
    {
      "cell_type": "code",
      "metadata": {
        "id": "4pBEafLfiEtc",
        "colab_type": "code",
        "colab": {}
      },
      "source": [
        "train_data.loc[[train_data['Cabin'] == 'A6'],['Cabin']]"
      ],
      "execution_count": 0,
      "outputs": []
    },
    {
      "cell_type": "code",
      "metadata": {
        "id": "3IByS-iGxvNo",
        "colab_type": "code",
        "colab": {}
      },
      "source": [
        "train_data['Name'].str.contains(\"Miss\")"
      ],
      "execution_count": 0,
      "outputs": []
    },
    {
      "cell_type": "code",
      "metadata": {
        "id": "cA9jzovtnYVx",
        "colab_type": "code",
        "colab": {}
      },
      "source": [
        "train_data['Cabin'] = np.where(train_data[\"Cabin\"].isnull(), 0, train_data['Cabin'])"
      ],
      "execution_count": 0,
      "outputs": []
    },
    {
      "cell_type": "code",
      "metadata": {
        "id": "Ez7cz228oVrP",
        "colab_type": "code",
        "colab": {}
      },
      "source": [
        "train_data['Cabin'] = train_data['Cabin'].fillna(0)"
      ],
      "execution_count": 0,
      "outputs": []
    },
    {
      "cell_type": "code",
      "metadata": {
        "id": "CzNOhgEuiUwY",
        "colab_type": "code",
        "outputId": "dc714067-b861-4625-c9cd-6e6d6bbbb6e5",
        "colab": {
          "base_uri": "https://localhost:8080/",
          "height": 514
        }
      },
      "source": [
        "train_data[train_data['Cabin'].str.contains(\"A\", na=False)]"
      ],
      "execution_count": 0,
      "outputs": [
        {
          "output_type": "execute_result",
          "data": {
            "text/html": [
              "<div>\n",
              "<style scoped>\n",
              "    .dataframe tbody tr th:only-of-type {\n",
              "        vertical-align: middle;\n",
              "    }\n",
              "\n",
              "    .dataframe tbody tr th {\n",
              "        vertical-align: top;\n",
              "    }\n",
              "\n",
              "    .dataframe thead th {\n",
              "        text-align: right;\n",
              "    }\n",
              "</style>\n",
              "<table border=\"1\" class=\"dataframe\">\n",
              "  <thead>\n",
              "    <tr style=\"text-align: right;\">\n",
              "      <th></th>\n",
              "      <th>PassengerId</th>\n",
              "      <th>Survived</th>\n",
              "      <th>Pclass</th>\n",
              "      <th>Name</th>\n",
              "      <th>Sex</th>\n",
              "      <th>Age</th>\n",
              "      <th>SibSp</th>\n",
              "      <th>Parch</th>\n",
              "      <th>Ticket</th>\n",
              "      <th>Fare</th>\n",
              "      <th>Cabin</th>\n",
              "      <th>Embarked</th>\n",
              "      <th>Tamanho_nome</th>\n",
              "    </tr>\n",
              "  </thead>\n",
              "  <tbody>\n",
              "    <tr>\n",
              "      <th>23</th>\n",
              "      <td>24</td>\n",
              "      <td>1</td>\n",
              "      <td>1</td>\n",
              "      <td>Sloper, Mr. William Thompson</td>\n",
              "      <td>male</td>\n",
              "      <td>28.000000</td>\n",
              "      <td>0</td>\n",
              "      <td>0</td>\n",
              "      <td>113788</td>\n",
              "      <td>35.5000</td>\n",
              "      <td>A6</td>\n",
              "      <td>S</td>\n",
              "      <td>28</td>\n",
              "    </tr>\n",
              "    <tr>\n",
              "      <th>96</th>\n",
              "      <td>97</td>\n",
              "      <td>0</td>\n",
              "      <td>1</td>\n",
              "      <td>Goldschmidt, Mr. George B</td>\n",
              "      <td>male</td>\n",
              "      <td>71.000000</td>\n",
              "      <td>0</td>\n",
              "      <td>0</td>\n",
              "      <td>PC 17754</td>\n",
              "      <td>34.6542</td>\n",
              "      <td>A5</td>\n",
              "      <td>C</td>\n",
              "      <td>25</td>\n",
              "    </tr>\n",
              "    <tr>\n",
              "      <th>174</th>\n",
              "      <td>175</td>\n",
              "      <td>0</td>\n",
              "      <td>1</td>\n",
              "      <td>Smith, Mr. James Clinch</td>\n",
              "      <td>male</td>\n",
              "      <td>56.000000</td>\n",
              "      <td>0</td>\n",
              "      <td>0</td>\n",
              "      <td>17764</td>\n",
              "      <td>30.6958</td>\n",
              "      <td>A7</td>\n",
              "      <td>C</td>\n",
              "      <td>23</td>\n",
              "    </tr>\n",
              "    <tr>\n",
              "      <th>185</th>\n",
              "      <td>186</td>\n",
              "      <td>0</td>\n",
              "      <td>1</td>\n",
              "      <td>Rood, Mr. Hugh Roscoe</td>\n",
              "      <td>male</td>\n",
              "      <td>29.699118</td>\n",
              "      <td>0</td>\n",
              "      <td>0</td>\n",
              "      <td>113767</td>\n",
              "      <td>50.0000</td>\n",
              "      <td>A32</td>\n",
              "      <td>S</td>\n",
              "      <td>21</td>\n",
              "    </tr>\n",
              "    <tr>\n",
              "      <th>209</th>\n",
              "      <td>210</td>\n",
              "      <td>1</td>\n",
              "      <td>1</td>\n",
              "      <td>Blank, Mr. Henry</td>\n",
              "      <td>male</td>\n",
              "      <td>40.000000</td>\n",
              "      <td>0</td>\n",
              "      <td>0</td>\n",
              "      <td>112277</td>\n",
              "      <td>31.0000</td>\n",
              "      <td>A31</td>\n",
              "      <td>C</td>\n",
              "      <td>16</td>\n",
              "    </tr>\n",
              "    <tr>\n",
              "      <th>284</th>\n",
              "      <td>285</td>\n",
              "      <td>0</td>\n",
              "      <td>1</td>\n",
              "      <td>Smith, Mr. Richard William</td>\n",
              "      <td>male</td>\n",
              "      <td>29.699118</td>\n",
              "      <td>0</td>\n",
              "      <td>0</td>\n",
              "      <td>113056</td>\n",
              "      <td>26.0000</td>\n",
              "      <td>A19</td>\n",
              "      <td>S</td>\n",
              "      <td>26</td>\n",
              "    </tr>\n",
              "    <tr>\n",
              "      <th>445</th>\n",
              "      <td>446</td>\n",
              "      <td>1</td>\n",
              "      <td>1</td>\n",
              "      <td>Dodge, Master. Washington</td>\n",
              "      <td>male</td>\n",
              "      <td>4.000000</td>\n",
              "      <td>0</td>\n",
              "      <td>2</td>\n",
              "      <td>33638</td>\n",
              "      <td>81.8583</td>\n",
              "      <td>A34</td>\n",
              "      <td>S</td>\n",
              "      <td>25</td>\n",
              "    </tr>\n",
              "    <tr>\n",
              "      <th>475</th>\n",
              "      <td>476</td>\n",
              "      <td>0</td>\n",
              "      <td>1</td>\n",
              "      <td>Clifford, Mr. George Quincy</td>\n",
              "      <td>male</td>\n",
              "      <td>29.699118</td>\n",
              "      <td>0</td>\n",
              "      <td>0</td>\n",
              "      <td>110465</td>\n",
              "      <td>52.0000</td>\n",
              "      <td>A14</td>\n",
              "      <td>S</td>\n",
              "      <td>27</td>\n",
              "    </tr>\n",
              "    <tr>\n",
              "      <th>556</th>\n",
              "      <td>557</td>\n",
              "      <td>1</td>\n",
              "      <td>1</td>\n",
              "      <td>Duff Gordon, Lady. (Lucille Christiana Sutherl...</td>\n",
              "      <td>female</td>\n",
              "      <td>48.000000</td>\n",
              "      <td>1</td>\n",
              "      <td>0</td>\n",
              "      <td>11755</td>\n",
              "      <td>39.6000</td>\n",
              "      <td>A16</td>\n",
              "      <td>C</td>\n",
              "      <td>65</td>\n",
              "    </tr>\n",
              "    <tr>\n",
              "      <th>583</th>\n",
              "      <td>584</td>\n",
              "      <td>0</td>\n",
              "      <td>1</td>\n",
              "      <td>Ross, Mr. John Hugo</td>\n",
              "      <td>male</td>\n",
              "      <td>36.000000</td>\n",
              "      <td>0</td>\n",
              "      <td>0</td>\n",
              "      <td>13049</td>\n",
              "      <td>40.1250</td>\n",
              "      <td>A10</td>\n",
              "      <td>C</td>\n",
              "      <td>19</td>\n",
              "    </tr>\n",
              "    <tr>\n",
              "      <th>599</th>\n",
              "      <td>600</td>\n",
              "      <td>1</td>\n",
              "      <td>1</td>\n",
              "      <td>Duff Gordon, Sir. Cosmo Edmund (\"Mr Morgan\")</td>\n",
              "      <td>male</td>\n",
              "      <td>49.000000</td>\n",
              "      <td>1</td>\n",
              "      <td>0</td>\n",
              "      <td>PC 17485</td>\n",
              "      <td>56.9292</td>\n",
              "      <td>A20</td>\n",
              "      <td>C</td>\n",
              "      <td>44</td>\n",
              "    </tr>\n",
              "    <tr>\n",
              "      <th>630</th>\n",
              "      <td>631</td>\n",
              "      <td>1</td>\n",
              "      <td>1</td>\n",
              "      <td>Barkworth, Mr. Algernon Henry Wilson</td>\n",
              "      <td>male</td>\n",
              "      <td>80.000000</td>\n",
              "      <td>0</td>\n",
              "      <td>0</td>\n",
              "      <td>27042</td>\n",
              "      <td>30.0000</td>\n",
              "      <td>A23</td>\n",
              "      <td>S</td>\n",
              "      <td>36</td>\n",
              "    </tr>\n",
              "    <tr>\n",
              "      <th>647</th>\n",
              "      <td>648</td>\n",
              "      <td>1</td>\n",
              "      <td>1</td>\n",
              "      <td>Simonius-Blumer, Col. Oberst Alfons</td>\n",
              "      <td>male</td>\n",
              "      <td>56.000000</td>\n",
              "      <td>0</td>\n",
              "      <td>0</td>\n",
              "      <td>13213</td>\n",
              "      <td>35.5000</td>\n",
              "      <td>A26</td>\n",
              "      <td>C</td>\n",
              "      <td>35</td>\n",
              "    </tr>\n",
              "    <tr>\n",
              "      <th>806</th>\n",
              "      <td>807</td>\n",
              "      <td>0</td>\n",
              "      <td>1</td>\n",
              "      <td>Andrews, Mr. Thomas Jr</td>\n",
              "      <td>male</td>\n",
              "      <td>39.000000</td>\n",
              "      <td>0</td>\n",
              "      <td>0</td>\n",
              "      <td>112050</td>\n",
              "      <td>0.0000</td>\n",
              "      <td>A36</td>\n",
              "      <td>S</td>\n",
              "      <td>22</td>\n",
              "    </tr>\n",
              "    <tr>\n",
              "      <th>867</th>\n",
              "      <td>868</td>\n",
              "      <td>0</td>\n",
              "      <td>1</td>\n",
              "      <td>Roebling, Mr. Washington Augustus II</td>\n",
              "      <td>male</td>\n",
              "      <td>31.000000</td>\n",
              "      <td>0</td>\n",
              "      <td>0</td>\n",
              "      <td>PC 17590</td>\n",
              "      <td>50.4958</td>\n",
              "      <td>A24</td>\n",
              "      <td>S</td>\n",
              "      <td>36</td>\n",
              "    </tr>\n",
              "  </tbody>\n",
              "</table>\n",
              "</div>"
            ],
            "text/plain": [
              "     PassengerId  Survived Pclass  ... Cabin Embarked  Tamanho_nome\n",
              "23            24         1      1  ...    A6        S            28\n",
              "96            97         0      1  ...    A5        C            25\n",
              "174          175         0      1  ...    A7        C            23\n",
              "185          186         0      1  ...   A32        S            21\n",
              "209          210         1      1  ...   A31        C            16\n",
              "284          285         0      1  ...   A19        S            26\n",
              "445          446         1      1  ...   A34        S            25\n",
              "475          476         0      1  ...   A14        S            27\n",
              "556          557         1      1  ...   A16        C            65\n",
              "583          584         0      1  ...   A10        C            19\n",
              "599          600         1      1  ...   A20        C            44\n",
              "630          631         1      1  ...   A23        S            36\n",
              "647          648         1      1  ...   A26        C            35\n",
              "806          807         0      1  ...   A36        S            22\n",
              "867          868         0      1  ...   A24        S            36\n",
              "\n",
              "[15 rows x 13 columns]"
            ]
          },
          "metadata": {
            "tags": []
          },
          "execution_count": 90
        }
      ]
    },
    {
      "cell_type": "code",
      "metadata": {
        "id": "YKDAKRzOoEGn",
        "colab_type": "code",
        "colab": {}
      },
      "source": [
        "train_data[train_data['Name'].str.contains(\"A\")]"
      ],
      "execution_count": 0,
      "outputs": []
    },
    {
      "cell_type": "code",
      "metadata": {
        "id": "4i5V41uSom1O",
        "colab_type": "code",
        "colab": {}
      },
      "source": [
        "train_data.info()"
      ],
      "execution_count": 0,
      "outputs": []
    },
    {
      "cell_type": "markdown",
      "metadata": {
        "id": "PeEiqdS_ygj2",
        "colab_type": "text"
      },
      "source": [
        "##Preenchendo valores nulos, criando e transformando variáveis"
      ]
    },
    {
      "cell_type": "code",
      "metadata": {
        "id": "e5KKKcQfyuei",
        "colab_type": "code",
        "colab": {}
      },
      "source": [
        "train_data['Pclass'] = train_data['Pclass'].apply(str)\n",
        "train_data['Fare'] = train_data['Fare'].fillna(train_data['Fare'].mean())\n",
        "\n",
        "train_data['Age'] = np.where((train_data.Age.isna() & (train_data.Sex=='female') & (train_data.Survived==0)),train_data[(train_data.Sex=='female') & (train_data.Survived==0)][['Age']].mean(),train_data['Age'])\n",
        "train_data['Age'] = np.where((train_data.Age.isna() & (train_data.Sex=='female') & (train_data.Survived==1)),train_data[(train_data.Sex=='female') & (train_data.Survived==1)][['Age']].mean(),train_data['Age'])\n",
        "train_data['Age'] = np.where((train_data.Age.isna() & (train_data.Sex=='male') & (train_data.Survived==0)),train_data[(train_data.Sex=='male') & (train_data.Survived==0)][['Age']].mean(),train_data['Age'])\n",
        "train_data['Age'] = np.where((train_data.Age.isna() & (train_data.Sex=='male') & (train_data.Survived==1)),train_data[(train_data.Sex=='male') & (train_data.Survived==1)][['Age']].mean(),train_data['Age'])\n",
        "\n",
        "train_data['Criança'] = np.where(train_data['Age'] < 12,1,0).astype('object')\n",
        "train_data['Adolescente'] = np.where((train_data['Age'] >= 12) & (train_data['Age'] < 20),1,0).astype('object')\n",
        "train_data['Jovem'] = np.where((train_data['Age'] >= 20) & (train_data['Age'] < 35),1,0).astype('object')\n",
        "train_data['Adulto'] = np.where((train_data['Age'] >= 35) & (train_data['Age'] < 65),1,0).astype('object')\n",
        "train_data['Idosos'] = np.where((train_data['Age'] >= 65) & (train_data['Age'] < 120),1,0).astype('object')\n",
        "\n",
        "\n",
        "train_data['Embarked'] = train_data['Embarked'].fillna(train_data['Embarked'].mode()[0])\n",
        "train_data['Tamanho_nome'] = train_data['Name'].apply(len)\n",
        "train_data['Cabin'] = train_data['Cabin'].fillna(0)\n",
        "\n",
        "train_data['Sozinho'] = np.where((train_data.SibSp == 0) & (train_data.Parch == 0), 1,0).astype('object')\n",
        "\n",
        "train_data['Cabin_A'] = np.where(train_data['Cabin'].str.contains(\"A\", na=False),1,0).astype('object')\n",
        "train_data['Cabin_B'] = np.where(train_data['Cabin'].str.contains(\"B\", na=False),1,0).astype('object')\n",
        "train_data['Cabin_C'] = np.where(train_data['Cabin'].str.contains(\"C\", na=False),1,0).astype('object')\n",
        "train_data['Cabin_D'] = np.where(train_data['Cabin'].str.contains(\"D\", na=False),1,0).astype('object')\n",
        "train_data['Cabin_E'] = np.where(train_data['Cabin'].str.contains(\"E\", na=False),1,0).astype('object')\n",
        "train_data['Cabin_F'] = np.where(train_data['Cabin'].str.contains(\"F\", na=False),1,0).astype('object')\n",
        "train_data['Cabin_G'] = np.where(train_data['Cabin'].str.contains(\"G\", na=False),1,0).astype('object')\n",
        "\n",
        "train_data['upper_cabins'] = np.where((train_data['Cabin'].str.contains('A', na=False) |train_data['Cabin'].str.contains('B', na=False)),1,0).astype('object')\n",
        "train_data['middle_cabins'] = np.where((train_data['Cabin'].str.contains('C', na=False) |train_data['Cabin'].str.contains('D', na=False)),1,0).astype('object')\n",
        "train_data['low_cabins'] = np.where((train_data['Cabin'].str.contains('E', na=False) | train_data['Cabin'].str.contains('F', na=False) |train_data['Cabin'].str.contains('G', na=False)),1,0).astype('object')\n",
        "\n",
        "#=================================================================================================================\n",
        "\n",
        "test_data['Pclass'] = test_data['Pclass'].apply(str)\n",
        "test_data['Fare'] = test_data['Fare'].fillna(test_data['Fare'].mean())\n",
        "\n",
        "test_data['Age'] = np.where((test_data.Age.isna() & (test_data.Sex=='female')),test_data[(test_data.Sex=='female')][['Age']].mean(),test_data['Age'])\n",
        "test_data['Age'] = np.where((test_data.Age.isna() & (test_data.Sex=='male')),test_data[(test_data.Sex=='male')][['Age']].mean(),test_data['Age'])\n",
        "\n",
        "test_data['Criança'] = np.where(test_data['Age'] < 12,1,0).astype('object')\n",
        "test_data['Adolescente'] = np.where((test_data['Age'] >= 12) & (test_data['Age'] < 20),1,0).astype('object')\n",
        "test_data['Jovem'] = np.where((test_data['Age'] >= 20) & (test_data['Age'] < 35),1,0).astype('object')\n",
        "test_data['Adulto'] = np.where((test_data['Age'] >= 35) & (test_data['Age'] < 65),1,0).astype('object')\n",
        "test_data['Idosos'] = np.where((test_data['Age'] >= 65) & (test_data['Age'] < 120),1,0).astype('object')\n",
        "\n",
        "test_data['Embarked'] = test_data['Embarked'].fillna(test_data['Embarked'].mode()[0])\n",
        "test_data['Tamanho_nome'] = test_data['Name'].apply(len)\n",
        "test_data['Cabin'] = test_data['Cabin'].fillna(0)\n",
        "\n",
        "test_data['Sozinho'] = np.where((test_data.SibSp == 0) & (test_data.Parch == 0), 1,0).astype('object')\n",
        "\n",
        "test_data['Cabin_A'] = np.where(test_data['Cabin'].str.contains(\"A\", na=False),1,0).astype('object')\n",
        "test_data['Cabin_B'] = np.where(test_data['Cabin'].str.contains(\"B\", na=False),1,0).astype('object')\n",
        "test_data['Cabin_C'] = np.where(test_data['Cabin'].str.contains(\"C\", na=False),1,0).astype('object')\n",
        "test_data['Cabin_D'] = np.where(test_data['Cabin'].str.contains(\"D\", na=False),1,0).astype('object')\n",
        "test_data['Cabin_E'] = np.where(test_data['Cabin'].str.contains(\"E\", na=False),1,0).astype('object')\n",
        "test_data['Cabin_F'] = np.where(test_data['Cabin'].str.contains(\"F\", na=False),1,0).astype('object')\n",
        "test_data['Cabin_G'] = np.where(test_data['Cabin'].str.contains(\"G\", na=False),1,0).astype('object')\n",
        "\n",
        "test_data['upper_cabins'] = np.where((test_data['Cabin'].str.contains('A', na=False) |test_data['Cabin'].str.contains('B', na=False)),1,0).astype('object')\n",
        "test_data['middle_cabins'] = np.where((test_data['Cabin'].str.contains('C', na=False) |test_data['Cabin'].str.contains('D', na=False)),1,0).astype('object')\n",
        "test_data['low_cabins'] = np.where((test_data['Cabin'].str.contains('E', na=False) | test_data['Cabin'].str.contains('F', na=False) |test_data['Cabin'].str.contains('G', na=False)),1,0).astype('object')\n",
        "\n"
      ],
      "execution_count": 0,
      "outputs": []
    },
    {
      "cell_type": "markdown",
      "metadata": {
        "id": "VkM0KV_SD8MX",
        "colab_type": "text"
      },
      "source": [
        "##Validando a idade"
      ]
    },
    {
      "cell_type": "code",
      "metadata": {
        "id": "yTlMSmz3ckvf",
        "colab_type": "code",
        "outputId": "4826c490-912a-4400-a129-0d036b3650b4",
        "colab": {
          "base_uri": "https://localhost:8080/",
          "height": 51
        }
      },
      "source": [
        "train_data['Age'].isnull().value_counts()"
      ],
      "execution_count": 0,
      "outputs": [
        {
          "output_type": "execute_result",
          "data": {
            "text/plain": [
              "False    891\n",
              "Name: Age, dtype: int64"
            ]
          },
          "metadata": {
            "tags": []
          },
          "execution_count": 160
        }
      ]
    },
    {
      "cell_type": "code",
      "metadata": {
        "id": "_SJWk_AA8PmQ",
        "colab_type": "code",
        "outputId": "1620557d-c547-4535-85b7-b452a200521d",
        "colab": {
          "base_uri": "https://localhost:8080/",
          "height": 255
        }
      },
      "source": [
        "train_data[train_data.Age.isna() & (train_data.Sex=='male') & (train_data.Survived==1)].count()"
      ],
      "execution_count": 0,
      "outputs": [
        {
          "output_type": "execute_result",
          "data": {
            "text/plain": [
              "PassengerId     0\n",
              "Survived        0\n",
              "Pclass          0\n",
              "Name            0\n",
              "Sex             0\n",
              "Age             0\n",
              "SibSp           0\n",
              "Parch           0\n",
              "Ticket          0\n",
              "Fare            0\n",
              "Cabin           0\n",
              "Embarked        0\n",
              "Tamanho_nome    0\n",
              "dtype: int64"
            ]
          },
          "metadata": {
            "tags": []
          },
          "execution_count": 161
        }
      ]
    },
    {
      "cell_type": "code",
      "metadata": {
        "id": "DDlaEDbafHtY",
        "colab_type": "code",
        "outputId": "b64fefdd-9212-4fb3-ab49-423c795166d0",
        "colab": {
          "base_uri": "https://localhost:8080/",
          "height": 255
        }
      },
      "source": [
        "train_data[(train_data.Age > 28) & (train_data.Age < 29)].count()"
      ],
      "execution_count": 0,
      "outputs": [
        {
          "output_type": "execute_result",
          "data": {
            "text/plain": [
              "PassengerId     38\n",
              "Survived        38\n",
              "Pclass          38\n",
              "Name            38\n",
              "Sex             38\n",
              "Age             38\n",
              "SibSp           38\n",
              "Parch           38\n",
              "Ticket          38\n",
              "Fare            38\n",
              "Cabin           38\n",
              "Embarked        38\n",
              "Tamanho_nome    38\n",
              "dtype: int64"
            ]
          },
          "metadata": {
            "tags": []
          },
          "execution_count": 174
        }
      ]
    },
    {
      "cell_type": "code",
      "metadata": {
        "id": "QynM1PVa_NiS",
        "colab_type": "code",
        "outputId": "97851ea0-64b9-4393-eb69-14c4613dd75c",
        "colab": {
          "base_uri": "https://localhost:8080/",
          "height": 255
        }
      },
      "source": [
        "train_data[(train_data.Age > 27) & (train_data.Age < 28)].count()"
      ],
      "execution_count": 0,
      "outputs": [
        {
          "output_type": "execute_result",
          "data": {
            "text/plain": [
              "PassengerId     16\n",
              "Survived        16\n",
              "Pclass          16\n",
              "Name            16\n",
              "Sex             16\n",
              "Age             16\n",
              "SibSp           16\n",
              "Parch           16\n",
              "Ticket          16\n",
              "Fare            16\n",
              "Cabin           16\n",
              "Embarked        16\n",
              "Tamanho_nome    16\n",
              "dtype: int64"
            ]
          },
          "metadata": {
            "tags": []
          },
          "execution_count": 175
        }
      ]
    },
    {
      "cell_type": "code",
      "metadata": {
        "id": "QDv0RJwy_VjT",
        "colab_type": "code",
        "outputId": "c07d607f-ed05-4ea0-a62b-f84ca7e2acc9",
        "colab": {
          "base_uri": "https://localhost:8080/",
          "height": 255
        }
      },
      "source": [
        "train_data[(train_data.Age > 31) & (train_data.Age < 32)].count()"
      ],
      "execution_count": 0,
      "outputs": [
        {
          "output_type": "execute_result",
          "data": {
            "text/plain": [
              "PassengerId     108\n",
              "Survived        108\n",
              "Pclass          108\n",
              "Name            108\n",
              "Sex             108\n",
              "Age             108\n",
              "SibSp           108\n",
              "Parch           108\n",
              "Ticket          108\n",
              "Fare            108\n",
              "Cabin           108\n",
              "Embarked        108\n",
              "Tamanho_nome    108\n",
              "dtype: int64"
            ]
          },
          "metadata": {
            "tags": []
          },
          "execution_count": 176
        }
      ]
    },
    {
      "cell_type": "code",
      "metadata": {
        "id": "Y5leLxDM_Zn5",
        "colab_type": "code",
        "outputId": "407fbd94-0ebc-4385-8ff1-d32cf0448dc1",
        "colab": {
          "base_uri": "https://localhost:8080/",
          "height": 255
        }
      },
      "source": [
        "train_data[(train_data.Age > 25) & (train_data.Age < 26)].count()"
      ],
      "execution_count": 0,
      "outputs": [
        {
          "output_type": "execute_result",
          "data": {
            "text/plain": [
              "PassengerId     17\n",
              "Survived        17\n",
              "Pclass          17\n",
              "Name            17\n",
              "Sex             17\n",
              "Age             17\n",
              "SibSp           17\n",
              "Parch           17\n",
              "Ticket          17\n",
              "Fare            17\n",
              "Cabin           17\n",
              "Embarked        17\n",
              "Tamanho_nome    17\n",
              "dtype: int64"
            ]
          },
          "metadata": {
            "tags": []
          },
          "execution_count": 177
        }
      ]
    },
    {
      "cell_type": "code",
      "metadata": {
        "id": "udQ6lVyeaaZT",
        "colab_type": "code",
        "outputId": "b39e2c7a-7102-4554-e599-9d1109ebf5be",
        "colab": {
          "base_uri": "https://localhost:8080/",
          "height": 51
        }
      },
      "source": [
        "train_data[(train_data.Sex=='male') & (train_data.Survived==0)][['Age']].mean()"
      ],
      "execution_count": 0,
      "outputs": [
        {
          "output_type": "execute_result",
          "data": {
            "text/plain": [
              "Age    31.618056\n",
              "dtype: float64"
            ]
          },
          "metadata": {
            "tags": []
          },
          "execution_count": 164
        }
      ]
    },
    {
      "cell_type": "code",
      "metadata": {
        "id": "Oao-mNtXbnCt",
        "colab_type": "code",
        "outputId": "a019e5b9-a326-4a2a-a7e7-b514c635abc0",
        "colab": {
          "base_uri": "https://localhost:8080/",
          "height": 51
        }
      },
      "source": [
        "train_data[(train_data.Sex=='male') & (train_data.Survived==1)][['Age']].mean()"
      ],
      "execution_count": 0,
      "outputs": [
        {
          "output_type": "execute_result",
          "data": {
            "text/plain": [
              "Age    27.276022\n",
              "dtype: float64"
            ]
          },
          "metadata": {
            "tags": []
          },
          "execution_count": 165
        }
      ]
    },
    {
      "cell_type": "code",
      "metadata": {
        "id": "ZEGwIOTD7QFg",
        "colab_type": "code",
        "outputId": "df65d3e2-7b16-4e8c-dadb-544fa8d8cee3",
        "colab": {
          "base_uri": "https://localhost:8080/",
          "height": 51
        }
      },
      "source": [
        "train_data[(train_data.Sex=='female') & (train_data.Survived==0)][['Age']].mean()"
      ],
      "execution_count": 0,
      "outputs": [
        {
          "output_type": "execute_result",
          "data": {
            "text/plain": [
              "Age    25.046875\n",
              "dtype: float64"
            ]
          },
          "metadata": {
            "tags": []
          },
          "execution_count": 166
        }
      ]
    },
    {
      "cell_type": "code",
      "metadata": {
        "id": "ZMI3xdP97QrF",
        "colab_type": "code",
        "outputId": "374f3f7f-f9f9-4d14-aba1-dbbf3b1e86c9",
        "colab": {
          "base_uri": "https://localhost:8080/",
          "height": 51
        }
      },
      "source": [
        "train_data[(train_data.Sex=='female') & (train_data.Survived==1)][['Age']].mean()"
      ],
      "execution_count": 0,
      "outputs": [
        {
          "output_type": "execute_result",
          "data": {
            "text/plain": [
              "Age    28.847716\n",
              "dtype: float64"
            ]
          },
          "metadata": {
            "tags": []
          },
          "execution_count": 167
        }
      ]
    },
    {
      "cell_type": "markdown",
      "metadata": {
        "id": "0JYH-fij0AMS",
        "colab_type": "text"
      },
      "source": [
        "##Verificando o dataframe depois das transformações"
      ]
    },
    {
      "cell_type": "code",
      "metadata": {
        "id": "CnLeBLD8JyT4",
        "colab_type": "code",
        "colab": {}
      },
      "source": [
        "train_data.info()"
      ],
      "execution_count": 0,
      "outputs": []
    },
    {
      "cell_type": "code",
      "metadata": {
        "id": "KPQ7HjwB0AhW",
        "colab_type": "code",
        "colab": {}
      },
      "source": [
        "train_data.head(10)"
      ],
      "execution_count": 0,
      "outputs": []
    },
    {
      "cell_type": "code",
      "metadata": {
        "id": "Wq3T96unJO6S",
        "colab_type": "code",
        "outputId": "8e92027e-d4ca-44fb-a5e0-7bae65fb1c39",
        "colab": {
          "base_uri": "https://localhost:8080/",
          "height": 52
        }
      },
      "source": [
        "train_data['Cabin'].isnull().value_counts()"
      ],
      "execution_count": 70,
      "outputs": [
        {
          "output_type": "execute_result",
          "data": {
            "text/plain": [
              "False    891\n",
              "Name: Cabin, dtype: int64"
            ]
          },
          "metadata": {
            "tags": []
          },
          "execution_count": 70
        }
      ]
    },
    {
      "cell_type": "markdown",
      "metadata": {
        "id": "ZWOz2sF5cXof",
        "colab_type": "text"
      },
      "source": [
        "## Setando as variáveis dummies"
      ]
    },
    {
      "cell_type": "code",
      "metadata": {
        "id": "iVyqQEaMI8AI",
        "colab_type": "code",
        "colab": {}
      },
      "source": [
        "variaveis = [\"Pclass\", \"Sex\", \"SibSp\", \"Parch\",\"Embarked\"]"
      ],
      "execution_count": 0,
      "outputs": []
    },
    {
      "cell_type": "markdown",
      "metadata": {
        "id": "b3tUmnlQd-EF",
        "colab_type": "text"
      },
      "source": [
        "##Populando o X e o y de treino"
      ]
    },
    {
      "cell_type": "code",
      "metadata": {
        "id": "TxPpQcprGzoW",
        "colab_type": "code",
        "colab": {}
      },
      "source": [
        "y = train_data[\"Survived\"]\n",
        "X = pd.get_dummies(train_data[variaveis])\n",
        "\n",
        "X['Fare'] = train_data['Fare']\n",
        "X['Age'] = train_data['Age']\n",
        "\n",
        "X['Criança'] = train_data['Criança']\n",
        "X['Adolescente'] = train_data['Adolescente']\n",
        "X['Jovem'] = train_data['Jovem']\n",
        "X['Adulto'] = train_data['Adulto']\n",
        "X['Idosos'] = train_data['Idosos']\n",
        "\n",
        "X['Tamanho_nome'] = train_data['Tamanho_nome']\n",
        "X['Sozinho'] = train_data['Sozinho']\n",
        "\n",
        "X['Cabin_A'] = train_data['Cabin_A']\n",
        "X['Cabin_B'] = train_data['Cabin_B']\n",
        "X['Cabin_C'] = train_data['Cabin_C']\n",
        "X['Cabin_D'] = train_data['Cabin_D']\n",
        "X['Cabin_E'] = train_data['Cabin_E']\n",
        "X['Cabin_F'] = train_data['Cabin_F']\n",
        "X['Cabin_G'] = train_data['Cabin_G']\n",
        "\n",
        "X['upper_cabins'] = train_data['upper_cabins']\n",
        "X['middle_cabins'] = train_data['middle_cabins']\n",
        "X['low_cabins'] = train_data['low_cabins']"
      ],
      "execution_count": 0,
      "outputs": []
    },
    {
      "cell_type": "markdown",
      "metadata": {
        "id": "HqEGuHmWMEql",
        "colab_type": "text"
      },
      "source": [
        "###Validando o X"
      ]
    },
    {
      "cell_type": "code",
      "metadata": {
        "id": "2PSmhJfjJaS6",
        "colab_type": "code",
        "outputId": "bbb49de9-842c-47d0-f03b-87d2ebb2ce3a",
        "colab": {
          "base_uri": "https://localhost:8080/",
          "height": 367
        }
      },
      "source": [
        "X.head(10)"
      ],
      "execution_count": 46,
      "outputs": [
        {
          "output_type": "execute_result",
          "data": {
            "text/html": [
              "<div>\n",
              "<style scoped>\n",
              "    .dataframe tbody tr th:only-of-type {\n",
              "        vertical-align: middle;\n",
              "    }\n",
              "\n",
              "    .dataframe tbody tr th {\n",
              "        vertical-align: top;\n",
              "    }\n",
              "\n",
              "    .dataframe thead th {\n",
              "        text-align: right;\n",
              "    }\n",
              "</style>\n",
              "<table border=\"1\" class=\"dataframe\">\n",
              "  <thead>\n",
              "    <tr style=\"text-align: right;\">\n",
              "      <th></th>\n",
              "      <th>SibSp</th>\n",
              "      <th>Parch</th>\n",
              "      <th>Pclass_1</th>\n",
              "      <th>Pclass_2</th>\n",
              "      <th>Pclass_3</th>\n",
              "      <th>Sex_female</th>\n",
              "      <th>Sex_male</th>\n",
              "      <th>Embarked_C</th>\n",
              "      <th>Embarked_Q</th>\n",
              "      <th>Embarked_S</th>\n",
              "      <th>Fare</th>\n",
              "      <th>Age</th>\n",
              "      <th>Criança</th>\n",
              "      <th>Adolescente</th>\n",
              "      <th>Jovem</th>\n",
              "      <th>Adulto</th>\n",
              "      <th>Idosos</th>\n",
              "      <th>Tamanho_nome</th>\n",
              "      <th>Sozinho</th>\n",
              "      <th>Cabin_A</th>\n",
              "      <th>Cabin_B</th>\n",
              "      <th>Cabin_C</th>\n",
              "      <th>Cabin_D</th>\n",
              "      <th>Cabin_E</th>\n",
              "      <th>Cabin_F</th>\n",
              "      <th>Cabin_G</th>\n",
              "      <th>upper_cabins</th>\n",
              "      <th>middle_cabins</th>\n",
              "      <th>low_cabins</th>\n",
              "    </tr>\n",
              "  </thead>\n",
              "  <tbody>\n",
              "    <tr>\n",
              "      <th>0</th>\n",
              "      <td>1</td>\n",
              "      <td>0</td>\n",
              "      <td>0</td>\n",
              "      <td>0</td>\n",
              "      <td>1</td>\n",
              "      <td>0</td>\n",
              "      <td>1</td>\n",
              "      <td>0</td>\n",
              "      <td>0</td>\n",
              "      <td>1</td>\n",
              "      <td>7.2500</td>\n",
              "      <td>22.000000</td>\n",
              "      <td>0</td>\n",
              "      <td>0</td>\n",
              "      <td>1</td>\n",
              "      <td>0</td>\n",
              "      <td>0</td>\n",
              "      <td>23</td>\n",
              "      <td>0</td>\n",
              "      <td>0</td>\n",
              "      <td>0</td>\n",
              "      <td>0</td>\n",
              "      <td>0</td>\n",
              "      <td>0</td>\n",
              "      <td>0</td>\n",
              "      <td>0</td>\n",
              "      <td>0</td>\n",
              "      <td>0</td>\n",
              "      <td>0</td>\n",
              "    </tr>\n",
              "    <tr>\n",
              "      <th>1</th>\n",
              "      <td>1</td>\n",
              "      <td>0</td>\n",
              "      <td>1</td>\n",
              "      <td>0</td>\n",
              "      <td>0</td>\n",
              "      <td>1</td>\n",
              "      <td>0</td>\n",
              "      <td>1</td>\n",
              "      <td>0</td>\n",
              "      <td>0</td>\n",
              "      <td>71.2833</td>\n",
              "      <td>38.000000</td>\n",
              "      <td>0</td>\n",
              "      <td>0</td>\n",
              "      <td>0</td>\n",
              "      <td>1</td>\n",
              "      <td>0</td>\n",
              "      <td>51</td>\n",
              "      <td>0</td>\n",
              "      <td>0</td>\n",
              "      <td>0</td>\n",
              "      <td>1</td>\n",
              "      <td>0</td>\n",
              "      <td>0</td>\n",
              "      <td>0</td>\n",
              "      <td>0</td>\n",
              "      <td>0</td>\n",
              "      <td>1</td>\n",
              "      <td>0</td>\n",
              "    </tr>\n",
              "    <tr>\n",
              "      <th>2</th>\n",
              "      <td>0</td>\n",
              "      <td>0</td>\n",
              "      <td>0</td>\n",
              "      <td>0</td>\n",
              "      <td>1</td>\n",
              "      <td>1</td>\n",
              "      <td>0</td>\n",
              "      <td>0</td>\n",
              "      <td>0</td>\n",
              "      <td>1</td>\n",
              "      <td>7.9250</td>\n",
              "      <td>26.000000</td>\n",
              "      <td>0</td>\n",
              "      <td>0</td>\n",
              "      <td>1</td>\n",
              "      <td>0</td>\n",
              "      <td>0</td>\n",
              "      <td>22</td>\n",
              "      <td>1</td>\n",
              "      <td>0</td>\n",
              "      <td>0</td>\n",
              "      <td>0</td>\n",
              "      <td>0</td>\n",
              "      <td>0</td>\n",
              "      <td>0</td>\n",
              "      <td>0</td>\n",
              "      <td>0</td>\n",
              "      <td>0</td>\n",
              "      <td>0</td>\n",
              "    </tr>\n",
              "    <tr>\n",
              "      <th>3</th>\n",
              "      <td>1</td>\n",
              "      <td>0</td>\n",
              "      <td>1</td>\n",
              "      <td>0</td>\n",
              "      <td>0</td>\n",
              "      <td>1</td>\n",
              "      <td>0</td>\n",
              "      <td>0</td>\n",
              "      <td>0</td>\n",
              "      <td>1</td>\n",
              "      <td>53.1000</td>\n",
              "      <td>35.000000</td>\n",
              "      <td>0</td>\n",
              "      <td>0</td>\n",
              "      <td>0</td>\n",
              "      <td>1</td>\n",
              "      <td>0</td>\n",
              "      <td>44</td>\n",
              "      <td>0</td>\n",
              "      <td>0</td>\n",
              "      <td>0</td>\n",
              "      <td>1</td>\n",
              "      <td>0</td>\n",
              "      <td>0</td>\n",
              "      <td>0</td>\n",
              "      <td>0</td>\n",
              "      <td>0</td>\n",
              "      <td>1</td>\n",
              "      <td>0</td>\n",
              "    </tr>\n",
              "    <tr>\n",
              "      <th>4</th>\n",
              "      <td>0</td>\n",
              "      <td>0</td>\n",
              "      <td>0</td>\n",
              "      <td>0</td>\n",
              "      <td>1</td>\n",
              "      <td>0</td>\n",
              "      <td>1</td>\n",
              "      <td>0</td>\n",
              "      <td>0</td>\n",
              "      <td>1</td>\n",
              "      <td>8.0500</td>\n",
              "      <td>35.000000</td>\n",
              "      <td>0</td>\n",
              "      <td>0</td>\n",
              "      <td>0</td>\n",
              "      <td>1</td>\n",
              "      <td>0</td>\n",
              "      <td>24</td>\n",
              "      <td>1</td>\n",
              "      <td>0</td>\n",
              "      <td>0</td>\n",
              "      <td>0</td>\n",
              "      <td>0</td>\n",
              "      <td>0</td>\n",
              "      <td>0</td>\n",
              "      <td>0</td>\n",
              "      <td>0</td>\n",
              "      <td>0</td>\n",
              "      <td>0</td>\n",
              "    </tr>\n",
              "    <tr>\n",
              "      <th>5</th>\n",
              "      <td>0</td>\n",
              "      <td>0</td>\n",
              "      <td>0</td>\n",
              "      <td>0</td>\n",
              "      <td>1</td>\n",
              "      <td>0</td>\n",
              "      <td>1</td>\n",
              "      <td>0</td>\n",
              "      <td>1</td>\n",
              "      <td>0</td>\n",
              "      <td>8.4583</td>\n",
              "      <td>31.618056</td>\n",
              "      <td>0</td>\n",
              "      <td>0</td>\n",
              "      <td>1</td>\n",
              "      <td>0</td>\n",
              "      <td>0</td>\n",
              "      <td>16</td>\n",
              "      <td>1</td>\n",
              "      <td>0</td>\n",
              "      <td>0</td>\n",
              "      <td>0</td>\n",
              "      <td>0</td>\n",
              "      <td>0</td>\n",
              "      <td>0</td>\n",
              "      <td>0</td>\n",
              "      <td>0</td>\n",
              "      <td>0</td>\n",
              "      <td>0</td>\n",
              "    </tr>\n",
              "    <tr>\n",
              "      <th>6</th>\n",
              "      <td>0</td>\n",
              "      <td>0</td>\n",
              "      <td>1</td>\n",
              "      <td>0</td>\n",
              "      <td>0</td>\n",
              "      <td>0</td>\n",
              "      <td>1</td>\n",
              "      <td>0</td>\n",
              "      <td>0</td>\n",
              "      <td>1</td>\n",
              "      <td>51.8625</td>\n",
              "      <td>54.000000</td>\n",
              "      <td>0</td>\n",
              "      <td>0</td>\n",
              "      <td>0</td>\n",
              "      <td>1</td>\n",
              "      <td>0</td>\n",
              "      <td>23</td>\n",
              "      <td>1</td>\n",
              "      <td>0</td>\n",
              "      <td>0</td>\n",
              "      <td>0</td>\n",
              "      <td>0</td>\n",
              "      <td>1</td>\n",
              "      <td>0</td>\n",
              "      <td>0</td>\n",
              "      <td>0</td>\n",
              "      <td>0</td>\n",
              "      <td>1</td>\n",
              "    </tr>\n",
              "    <tr>\n",
              "      <th>7</th>\n",
              "      <td>3</td>\n",
              "      <td>1</td>\n",
              "      <td>0</td>\n",
              "      <td>0</td>\n",
              "      <td>1</td>\n",
              "      <td>0</td>\n",
              "      <td>1</td>\n",
              "      <td>0</td>\n",
              "      <td>0</td>\n",
              "      <td>1</td>\n",
              "      <td>21.0750</td>\n",
              "      <td>2.000000</td>\n",
              "      <td>1</td>\n",
              "      <td>0</td>\n",
              "      <td>0</td>\n",
              "      <td>0</td>\n",
              "      <td>0</td>\n",
              "      <td>30</td>\n",
              "      <td>0</td>\n",
              "      <td>0</td>\n",
              "      <td>0</td>\n",
              "      <td>0</td>\n",
              "      <td>0</td>\n",
              "      <td>0</td>\n",
              "      <td>0</td>\n",
              "      <td>0</td>\n",
              "      <td>0</td>\n",
              "      <td>0</td>\n",
              "      <td>0</td>\n",
              "    </tr>\n",
              "    <tr>\n",
              "      <th>8</th>\n",
              "      <td>0</td>\n",
              "      <td>2</td>\n",
              "      <td>0</td>\n",
              "      <td>0</td>\n",
              "      <td>1</td>\n",
              "      <td>1</td>\n",
              "      <td>0</td>\n",
              "      <td>0</td>\n",
              "      <td>0</td>\n",
              "      <td>1</td>\n",
              "      <td>11.1333</td>\n",
              "      <td>27.000000</td>\n",
              "      <td>0</td>\n",
              "      <td>0</td>\n",
              "      <td>1</td>\n",
              "      <td>0</td>\n",
              "      <td>0</td>\n",
              "      <td>49</td>\n",
              "      <td>0</td>\n",
              "      <td>0</td>\n",
              "      <td>0</td>\n",
              "      <td>0</td>\n",
              "      <td>0</td>\n",
              "      <td>0</td>\n",
              "      <td>0</td>\n",
              "      <td>0</td>\n",
              "      <td>0</td>\n",
              "      <td>0</td>\n",
              "      <td>0</td>\n",
              "    </tr>\n",
              "    <tr>\n",
              "      <th>9</th>\n",
              "      <td>1</td>\n",
              "      <td>0</td>\n",
              "      <td>0</td>\n",
              "      <td>1</td>\n",
              "      <td>0</td>\n",
              "      <td>1</td>\n",
              "      <td>0</td>\n",
              "      <td>1</td>\n",
              "      <td>0</td>\n",
              "      <td>0</td>\n",
              "      <td>30.0708</td>\n",
              "      <td>14.000000</td>\n",
              "      <td>0</td>\n",
              "      <td>1</td>\n",
              "      <td>0</td>\n",
              "      <td>0</td>\n",
              "      <td>0</td>\n",
              "      <td>35</td>\n",
              "      <td>0</td>\n",
              "      <td>0</td>\n",
              "      <td>0</td>\n",
              "      <td>0</td>\n",
              "      <td>0</td>\n",
              "      <td>0</td>\n",
              "      <td>0</td>\n",
              "      <td>0</td>\n",
              "      <td>0</td>\n",
              "      <td>0</td>\n",
              "      <td>0</td>\n",
              "    </tr>\n",
              "  </tbody>\n",
              "</table>\n",
              "</div>"
            ],
            "text/plain": [
              "   SibSp  Parch  Pclass_1  ...  upper_cabins  middle_cabins  low_cabins\n",
              "0      1      0         0  ...             0              0           0\n",
              "1      1      0         1  ...             0              1           0\n",
              "2      0      0         0  ...             0              0           0\n",
              "3      1      0         1  ...             0              1           0\n",
              "4      0      0         0  ...             0              0           0\n",
              "5      0      0         0  ...             0              0           0\n",
              "6      0      0         1  ...             0              0           1\n",
              "7      3      1         0  ...             0              0           0\n",
              "8      0      2         0  ...             0              0           0\n",
              "9      1      0         0  ...             0              0           0\n",
              "\n",
              "[10 rows x 29 columns]"
            ]
          },
          "metadata": {
            "tags": []
          },
          "execution_count": 46
        }
      ]
    },
    {
      "cell_type": "code",
      "metadata": {
        "id": "0R8OYsetN3EF",
        "colab_type": "code",
        "outputId": "37b38de7-f38a-4a87-e9f4-42f68f2cd034",
        "colab": {
          "base_uri": "https://localhost:8080/",
          "height": 323
        }
      },
      "source": [
        "X.info()"
      ],
      "execution_count": 0,
      "outputs": [
        {
          "output_type": "stream",
          "text": [
            "<class 'pandas.core.frame.DataFrame'>\n",
            "RangeIndex: 891 entries, 0 to 890\n",
            "Data columns (total 13 columns):\n",
            "SibSp         891 non-null int64\n",
            "Parch         891 non-null int64\n",
            "Pclass_1      891 non-null uint8\n",
            "Pclass_2      891 non-null uint8\n",
            "Pclass_3      891 non-null uint8\n",
            "Sex_female    891 non-null uint8\n",
            "Sex_male      891 non-null uint8\n",
            "Embarked_C    891 non-null uint8\n",
            "Embarked_Q    891 non-null uint8\n",
            "Embarked_S    891 non-null uint8\n",
            "Fare          891 non-null float64\n",
            "Age           891 non-null float64\n",
            "Sozinho       891 non-null object\n",
            "dtypes: float64(2), int64(2), object(1), uint8(8)\n",
            "memory usage: 41.9+ KB\n"
          ],
          "name": "stdout"
        }
      ]
    },
    {
      "cell_type": "markdown",
      "metadata": {
        "id": "oFGqjgAeYeGF",
        "colab_type": "text"
      },
      "source": [
        "#Separando, treinando e validando o modelo com os dados de treino"
      ]
    },
    {
      "cell_type": "markdown",
      "metadata": {
        "id": "I3tHWtkFci3p",
        "colab_type": "text"
      },
      "source": [
        "## Separando o dataset de treino e validação com train_test_split"
      ]
    },
    {
      "cell_type": "code",
      "metadata": {
        "id": "ujVXLMKhcpGq",
        "colab_type": "code",
        "colab": {}
      },
      "source": [
        "np.random.seed(0)\n",
        "train_X, valid_X, train_y, valid_y = train_test_split(X, y, random_state = 0, test_size=0.25)"
      ],
      "execution_count": 0,
      "outputs": []
    },
    {
      "cell_type": "markdown",
      "metadata": {
        "id": "88ljcGiMMH_q",
        "colab_type": "text"
      },
      "source": [
        "## Separando os dados com KFold"
      ]
    },
    {
      "cell_type": "code",
      "metadata": {
        "id": "M31fJO4EEITY",
        "colab_type": "code",
        "colab": {}
      },
      "source": [
        "kf = KFold(5, shuffle=True, random_state=0)"
      ],
      "execution_count": 0,
      "outputs": []
    },
    {
      "cell_type": "code",
      "metadata": {
        "id": "h0NacnWk_xuj",
        "colab_type": "code",
        "colab": {}
      },
      "source": [
        "\n",
        "resultados = []\n",
        "for rep in range(10):\n",
        "    #print(\"Rep:\", rep)\n",
        "    kf = KFold(5, shuffle=True, random_state=rep)\n",
        "    \n",
        "    for linhas_treino, linhas_valid in kf.split(X):\n",
        "        #print(\"Treino:\", linhas_treino.shape[0])\n",
        "        #print(\"Valid:\", linhas_valid.shape[0])\n",
        "\n",
        "        X_treino, X_valid = X.iloc[linhas_treino], X.iloc[linhas_valid]\n",
        "        y_treino, y_valid = y.iloc[linhas_treino], y.iloc[linhas_valid]\n",
        "\n",
        "        modelo = LogisticRegression()\n",
        "        modelo.fit(X_treino, y_treino)\n",
        "\n",
        "        p = modelo.predict(X_valid)\n",
        "\n",
        "        acc = np.mean(y_valid == p)\n",
        "        resultados.append(acc)\n",
        "        #print(\"Acc:\", acc)\n",
        "        #print()"
      ],
      "execution_count": 0,
      "outputs": []
    },
    {
      "cell_type": "code",
      "metadata": {
        "id": "BmajT0E1dpnf",
        "colab_type": "code",
        "colab": {
          "base_uri": "https://localhost:8080/",
          "height": 34
        },
        "outputId": "2956f23a-b269-4bfd-f911-8d937c74a4c8"
      },
      "source": [
        "np.mean(resultados)"
      ],
      "execution_count": 63,
      "outputs": [
        {
          "output_type": "execute_result",
          "data": {
            "text/plain": [
              "0.8095518172117255"
            ]
          },
          "metadata": {
            "tags": []
          },
          "execution_count": 63
        }
      ]
    },
    {
      "cell_type": "markdown",
      "metadata": {
        "id": "QgSWAReNMQHT",
        "colab_type": "text"
      },
      "source": [
        "###Validando"
      ]
    },
    {
      "cell_type": "code",
      "metadata": {
        "id": "PmdtO8aAKoO6",
        "colab_type": "code",
        "outputId": "31f59d36-fddc-4f81-b9b5-752d9afa1f29",
        "colab": {
          "base_uri": "https://localhost:8080/",
          "height": 459
        }
      },
      "source": [
        "train_X.info()"
      ],
      "execution_count": 0,
      "outputs": [
        {
          "output_type": "stream",
          "text": [
            "<class 'pandas.core.frame.DataFrame'>\n",
            "Int64Index: 668 entries, 105 to 684\n",
            "Data columns (total 21 columns):\n",
            "SibSp           668 non-null int64\n",
            "Parch           668 non-null int64\n",
            "Pclass_1        668 non-null uint8\n",
            "Pclass_2        668 non-null uint8\n",
            "Pclass_3        668 non-null uint8\n",
            "Sex_female      668 non-null uint8\n",
            "Sex_male        668 non-null uint8\n",
            "Embarked_C      668 non-null uint8\n",
            "Embarked_Q      668 non-null uint8\n",
            "Embarked_S      668 non-null uint8\n",
            "Fare            668 non-null float64\n",
            "Age             668 non-null float64\n",
            "Tamanho_nome    668 non-null int64\n",
            "Sozinho         668 non-null object\n",
            "Cabin_A         668 non-null object\n",
            "Cabin_B         668 non-null object\n",
            "Cabin_C         668 non-null object\n",
            "Cabin_D         668 non-null object\n",
            "Cabin_E         668 non-null object\n",
            "Cabin_F         668 non-null object\n",
            "Cabin_G         668 non-null object\n",
            "dtypes: float64(2), int64(3), object(8), uint8(8)\n",
            "memory usage: 78.3+ KB\n"
          ],
          "name": "stdout"
        }
      ]
    },
    {
      "cell_type": "code",
      "metadata": {
        "id": "R7DwDObTJPNX",
        "colab_type": "code",
        "outputId": "8903e319-1e90-4937-f37b-445728ff31ce",
        "colab": {
          "base_uri": "https://localhost:8080/",
          "height": 224
        }
      },
      "source": [
        "train_X.head()"
      ],
      "execution_count": 0,
      "outputs": [
        {
          "output_type": "execute_result",
          "data": {
            "text/html": [
              "<div>\n",
              "<style scoped>\n",
              "    .dataframe tbody tr th:only-of-type {\n",
              "        vertical-align: middle;\n",
              "    }\n",
              "\n",
              "    .dataframe tbody tr th {\n",
              "        vertical-align: top;\n",
              "    }\n",
              "\n",
              "    .dataframe thead th {\n",
              "        text-align: right;\n",
              "    }\n",
              "</style>\n",
              "<table border=\"1\" class=\"dataframe\">\n",
              "  <thead>\n",
              "    <tr style=\"text-align: right;\">\n",
              "      <th></th>\n",
              "      <th>SibSp</th>\n",
              "      <th>Parch</th>\n",
              "      <th>Pclass_1</th>\n",
              "      <th>Pclass_2</th>\n",
              "      <th>Pclass_3</th>\n",
              "      <th>Sex_female</th>\n",
              "      <th>Sex_male</th>\n",
              "      <th>Embarked_C</th>\n",
              "      <th>Embarked_Q</th>\n",
              "      <th>Embarked_S</th>\n",
              "      <th>Fare</th>\n",
              "      <th>Age</th>\n",
              "      <th>Tamanho_nome</th>\n",
              "      <th>Sozinho</th>\n",
              "      <th>Cabin_A</th>\n",
              "      <th>Cabin_B</th>\n",
              "      <th>Cabin_C</th>\n",
              "      <th>Cabin_D</th>\n",
              "      <th>Cabin_E</th>\n",
              "      <th>Cabin_F</th>\n",
              "      <th>Cabin_G</th>\n",
              "    </tr>\n",
              "  </thead>\n",
              "  <tbody>\n",
              "    <tr>\n",
              "      <th>105</th>\n",
              "      <td>0</td>\n",
              "      <td>0</td>\n",
              "      <td>0</td>\n",
              "      <td>0</td>\n",
              "      <td>1</td>\n",
              "      <td>0</td>\n",
              "      <td>1</td>\n",
              "      <td>0</td>\n",
              "      <td>0</td>\n",
              "      <td>1</td>\n",
              "      <td>7.8958</td>\n",
              "      <td>28.0</td>\n",
              "      <td>21</td>\n",
              "      <td>1</td>\n",
              "      <td>0</td>\n",
              "      <td>0</td>\n",
              "      <td>0</td>\n",
              "      <td>0</td>\n",
              "      <td>0</td>\n",
              "      <td>0</td>\n",
              "      <td>0</td>\n",
              "    </tr>\n",
              "    <tr>\n",
              "      <th>68</th>\n",
              "      <td>4</td>\n",
              "      <td>2</td>\n",
              "      <td>0</td>\n",
              "      <td>0</td>\n",
              "      <td>1</td>\n",
              "      <td>1</td>\n",
              "      <td>0</td>\n",
              "      <td>0</td>\n",
              "      <td>0</td>\n",
              "      <td>1</td>\n",
              "      <td>7.9250</td>\n",
              "      <td>17.0</td>\n",
              "      <td>31</td>\n",
              "      <td>0</td>\n",
              "      <td>0</td>\n",
              "      <td>0</td>\n",
              "      <td>0</td>\n",
              "      <td>0</td>\n",
              "      <td>0</td>\n",
              "      <td>0</td>\n",
              "      <td>0</td>\n",
              "    </tr>\n",
              "    <tr>\n",
              "      <th>253</th>\n",
              "      <td>1</td>\n",
              "      <td>0</td>\n",
              "      <td>0</td>\n",
              "      <td>0</td>\n",
              "      <td>1</td>\n",
              "      <td>0</td>\n",
              "      <td>1</td>\n",
              "      <td>0</td>\n",
              "      <td>0</td>\n",
              "      <td>1</td>\n",
              "      <td>16.1000</td>\n",
              "      <td>30.0</td>\n",
              "      <td>24</td>\n",
              "      <td>0</td>\n",
              "      <td>0</td>\n",
              "      <td>0</td>\n",
              "      <td>0</td>\n",
              "      <td>0</td>\n",
              "      <td>0</td>\n",
              "      <td>0</td>\n",
              "      <td>0</td>\n",
              "    </tr>\n",
              "    <tr>\n",
              "      <th>320</th>\n",
              "      <td>0</td>\n",
              "      <td>0</td>\n",
              "      <td>0</td>\n",
              "      <td>0</td>\n",
              "      <td>1</td>\n",
              "      <td>0</td>\n",
              "      <td>1</td>\n",
              "      <td>0</td>\n",
              "      <td>0</td>\n",
              "      <td>1</td>\n",
              "      <td>7.2500</td>\n",
              "      <td>22.0</td>\n",
              "      <td>18</td>\n",
              "      <td>1</td>\n",
              "      <td>0</td>\n",
              "      <td>0</td>\n",
              "      <td>0</td>\n",
              "      <td>0</td>\n",
              "      <td>0</td>\n",
              "      <td>0</td>\n",
              "      <td>0</td>\n",
              "    </tr>\n",
              "    <tr>\n",
              "      <th>706</th>\n",
              "      <td>0</td>\n",
              "      <td>0</td>\n",
              "      <td>0</td>\n",
              "      <td>1</td>\n",
              "      <td>0</td>\n",
              "      <td>1</td>\n",
              "      <td>0</td>\n",
              "      <td>0</td>\n",
              "      <td>0</td>\n",
              "      <td>1</td>\n",
              "      <td>13.5000</td>\n",
              "      <td>45.0</td>\n",
              "      <td>29</td>\n",
              "      <td>1</td>\n",
              "      <td>0</td>\n",
              "      <td>0</td>\n",
              "      <td>0</td>\n",
              "      <td>0</td>\n",
              "      <td>0</td>\n",
              "      <td>0</td>\n",
              "      <td>0</td>\n",
              "    </tr>\n",
              "  </tbody>\n",
              "</table>\n",
              "</div>"
            ],
            "text/plain": [
              "     SibSp  Parch  Pclass_1  Pclass_2  ...  Cabin_D  Cabin_E  Cabin_F  Cabin_G\n",
              "105      0      0         0         0  ...        0        0        0        0\n",
              "68       4      2         0         0  ...        0        0        0        0\n",
              "253      1      0         0         0  ...        0        0        0        0\n",
              "320      0      0         0         0  ...        0        0        0        0\n",
              "706      0      0         0         1  ...        0        0        0        0\n",
              "\n",
              "[5 rows x 21 columns]"
            ]
          },
          "metadata": {
            "tags": []
          },
          "execution_count": 215
        }
      ]
    },
    {
      "cell_type": "code",
      "metadata": {
        "id": "i3_NynltfvAi",
        "colab_type": "code",
        "outputId": "8de42ae9-2761-4098-ca24-4c238d476918",
        "colab": {
          "base_uri": "https://localhost:8080/",
          "height": 34
        }
      },
      "source": [
        "train_X.shape"
      ],
      "execution_count": 0,
      "outputs": [
        {
          "output_type": "execute_result",
          "data": {
            "text/plain": [
              "(668, 20)"
            ]
          },
          "metadata": {
            "tags": []
          },
          "execution_count": 122
        }
      ]
    },
    {
      "cell_type": "code",
      "metadata": {
        "id": "Wn8QACIkfvT9",
        "colab_type": "code",
        "outputId": "b1ec9295-9d6c-4813-b34b-dd708f6cd29d",
        "colab": {
          "base_uri": "https://localhost:8080/",
          "height": 34
        }
      },
      "source": [
        "train_y.shape"
      ],
      "execution_count": 0,
      "outputs": [
        {
          "output_type": "execute_result",
          "data": {
            "text/plain": [
              "(668,)"
            ]
          },
          "metadata": {
            "tags": []
          },
          "execution_count": 20
        }
      ]
    },
    {
      "cell_type": "code",
      "metadata": {
        "id": "8LOQ_DF4fvK5",
        "colab_type": "code",
        "outputId": "b92f5342-7c52-4c11-9277-2926c532b9a2",
        "colab": {
          "base_uri": "https://localhost:8080/",
          "height": 34
        }
      },
      "source": [
        "valid_X.shape"
      ],
      "execution_count": 0,
      "outputs": [
        {
          "output_type": "execute_result",
          "data": {
            "text/plain": [
              "(223, 13)"
            ]
          },
          "metadata": {
            "tags": []
          },
          "execution_count": 21
        }
      ]
    },
    {
      "cell_type": "code",
      "metadata": {
        "id": "QcRkm0Bgfvc5",
        "colab_type": "code",
        "outputId": "41ef66dd-7d24-4bd6-897c-c56712d28a12",
        "colab": {
          "base_uri": "https://localhost:8080/",
          "height": 34
        }
      },
      "source": [
        "valid_y.shape"
      ],
      "execution_count": 0,
      "outputs": [
        {
          "output_type": "execute_result",
          "data": {
            "text/plain": [
              "(223,)"
            ]
          },
          "metadata": {
            "tags": []
          },
          "execution_count": 22
        }
      ]
    },
    {
      "cell_type": "markdown",
      "metadata": {
        "id": "uOh8PKs0227b",
        "colab_type": "text"
      },
      "source": [
        "##Balanceando o dataset"
      ]
    },
    {
      "cell_type": "code",
      "metadata": {
        "id": "CefZb0oh28IP",
        "colab_type": "code",
        "outputId": "aa2361e1-c92a-429e-881e-b7bae0ac85b0",
        "colab": {
          "base_uri": "https://localhost:8080/",
          "height": 309
        }
      },
      "source": [
        "count_classes = pd.value_counts(train_y, sort = True).sort_index()\n",
        "count_classes.plot(kind = 'bar')\n",
        "plt.title(\"Histograma de Sobreviventes\")\n",
        "plt.xlabel(\"Classe\")\n",
        "plt.ylabel(\"Frequency\")"
      ],
      "execution_count": 0,
      "outputs": [
        {
          "output_type": "execute_result",
          "data": {
            "text/plain": [
              "Text(0, 0.5, 'Frequency')"
            ]
          },
          "metadata": {
            "tags": []
          },
          "execution_count": 12
        },
        {
          "output_type": "display_data",
          "data": {
            "image/png": "[encoded data removed]",
            "text/plain": [
              "<Figure size 432x288 with 1 Axes>"
            ]
          },
          "metadata": {
            "tags": []
          }
        }
      ]
    },
    {
      "cell_type": "code",
      "metadata": {
        "id": "SH3qYAFo3ASa",
        "colab_type": "code",
        "colab": {}
      },
      "source": [
        "sm = SMOTE(random_state=1234)\n",
        "\n",
        "train_X_res, train_y_res = sm.fit_sample(train_X, train_y.ravel())"
      ],
      "execution_count": 0,
      "outputs": []
    },
    {
      "cell_type": "code",
      "metadata": {
        "id": "DcHSm2tr3Iw4",
        "colab_type": "code",
        "outputId": "d664ff78-add5-4daa-bd6b-d4c8df932c2e",
        "colab": {
          "base_uri": "https://localhost:8080/",
          "height": 309
        }
      },
      "source": [
        "count_classes = pd.value_counts(train_y_res, sort = True).sort_index()\n",
        "count_classes.plot(kind = 'bar')\n",
        "plt.title(\"Histograma de Sobreviventes\")\n",
        "plt.xlabel(\"Classe\")\n",
        "plt.ylabel(\"Frequency\")"
      ],
      "execution_count": 0,
      "outputs": [
        {
          "output_type": "execute_result",
          "data": {
            "text/plain": [
              "Text(0, 0.5, 'Frequency')"
            ]
          },
          "metadata": {
            "tags": []
          },
          "execution_count": 14
        },
        {
          "output_type": "display_data",
          "data": {
            "image/png": "[encoded data removed]",
            "text/plain": [
              "<Figure size 432x288 with 1 Axes>"
            ]
          },
          "metadata": {
            "tags": []
          }
        }
      ]
    },
    {
      "cell_type": "markdown",
      "metadata": {
        "id": "RHJneRxHfeLb",
        "colab_type": "text"
      },
      "source": [
        "##Rodando o modelo com dados de treino e prevendo com dados de validação"
      ]
    },
    {
      "cell_type": "markdown",
      "metadata": {
        "id": "MlcKS5gsr9Fw",
        "colab_type": "text"
      },
      "source": [
        "###Compara N_estimators"
      ]
    },
    {
      "cell_type": "code",
      "metadata": {
        "id": "70PT3faMrlgt",
        "colab_type": "code",
        "outputId": "f734b7ae-5300-4ae7-e736-045bdc635256",
        "colab": {
          "base_uri": "https://localhost:8080/",
          "height": 284
        }
      },
      "source": [
        "list_estimators = [1, 2, 4, 8, 16, 32, 64, 100, 200]\n",
        "train_results = []\n",
        "valid_results = []\n",
        "\n",
        "for val_estimator in list_estimators:\n",
        "  model = RandomForestClassifier(n_estimators=val_estimator, n_jobs=-1)\n",
        "  model.fit(train_X, train_y)\n",
        "\n",
        "  train_pred = model.predict(train_X)\n",
        "  false_positive_rate, true_positive_rate, thresholds = roc_curve(train_y, train_pred)\n",
        "  roc_auc = auc(false_positive_rate, true_positive_rate)\n",
        "  train_results.append(roc_auc)\n",
        "\n",
        "  valid_pred = model.predict(valid_X)\n",
        "  false_positive_rate, true_positive_rate, thresholds = roc_curve(valid_y, valid_pred)\n",
        "  roc_auc = auc(false_positive_rate, true_positive_rate)\n",
        "  valid_results.append(roc_auc)\n",
        "\n",
        "line1, = plt.plot(list_estimators, train_results, 'b', label='Train AUC')\n",
        "line2, = plt.plot(list_estimators, valid_results, 'r', label='Valid AUC')\n",
        "plt.legend(handler_map={line1: HandlerLine2D(numpoints=2)})\n",
        "plt.ylabel('AUC score')\n",
        "plt.xlabel('n_estimators')\n",
        "plt.show()"
      ],
      "execution_count": 0,
      "outputs": [
        {
          "output_type": "display_data",
          "data": {
            "image/png": "[encoded data removed]",
            "text/plain": [
              "<Figure size 432x288 with 1 Axes>"
            ]
          },
          "metadata": {
            "tags": []
          }
        }
      ]
    },
    {
      "cell_type": "markdown",
      "metadata": {
        "id": "peDm2YdsZtjX",
        "colab_type": "text"
      },
      "source": [
        "###Compara max_depth"
      ]
    },
    {
      "cell_type": "code",
      "metadata": {
        "id": "c4LZBwQEaT5V",
        "colab_type": "code",
        "outputId": "781b0f24-4bf5-466c-f43f-b75e5a6056c9",
        "colab": {
          "base_uri": "https://localhost:8080/",
          "height": 284
        }
      },
      "source": [
        "list_max_depths = np.linspace(1, 32, 32, endpoint=True)\n",
        "train_results = []\n",
        "valid_results = []\n",
        "\n",
        "for val_max_depth in list_max_depths:\n",
        "  model = RandomForestClassifier(max_depth=val_max_depth, n_jobs=-1)\n",
        "  model.fit(train_X, train_y)\n",
        "\n",
        "  train_pred = model.predict(train_X)\n",
        "  false_positive_rate, true_positive_rate, thresholds = roc_curve(train_y, train_pred)\n",
        "  roc_auc = auc(false_positive_rate, true_positive_rate)\n",
        "  train_results.append(roc_auc)\n",
        "\n",
        "  valid_pred = model.predict(valid_X)\n",
        "  false_positive_rate, true_positive_rate, thresholds = roc_curve(valid_y, valid_pred)\n",
        "  roc_auc = auc(false_positive_rate, true_positive_rate)\n",
        "  valid_results.append(roc_auc)\n",
        "\n",
        "line1, = plt.plot(list_max_depths, train_results, 'b', label='Train AUC')\n",
        "line2, = plt.plot(list_max_depths, valid_results, 'r', label='Valid AUC')\n",
        "plt.legend(handler_map={line1: HandlerLine2D(numpoints=2)})\n",
        "plt.ylabel('AUC score')\n",
        "plt.xlabel('max_depths')\n",
        "plt.show()"
      ],
      "execution_count": 0,
      "outputs": [
        {
          "output_type": "display_data",
          "data": {
            "image/png": "[encoded data removed]",
            "text/plain": [
              "<Figure size 432x288 with 1 Axes>"
            ]
          },
          "metadata": {
            "tags": []
          }
        }
      ]
    },
    {
      "cell_type": "markdown",
      "metadata": {
        "id": "qWr9SEDuZ0_S",
        "colab_type": "text"
      },
      "source": [
        "###Compara min_samples_split"
      ]
    },
    {
      "cell_type": "code",
      "metadata": {
        "id": "9YVF0zG3aVTN",
        "colab_type": "code",
        "outputId": "b3129b88-989c-4c0b-cd5d-d58b96635612",
        "colab": {
          "base_uri": "https://localhost:8080/",
          "height": 284
        }
      },
      "source": [
        "list_min_samples_splits = np.linspace(0.1, 1.0, 10, endpoint=True)\n",
        "train_results = []\n",
        "valid_results = []\n",
        "\n",
        "for val_min_samples_split in list_min_samples_splits:\n",
        "  model = RandomForestClassifier(min_samples_split=val_min_samples_split, n_jobs=-1)\n",
        "  model.fit(train_X, train_y)\n",
        "\n",
        "  train_pred = model.predict(train_X)\n",
        "  false_positive_rate, true_positive_rate, thresholds = roc_curve(train_y, train_pred)\n",
        "  roc_auc = auc(false_positive_rate, true_positive_rate)\n",
        "  train_results.append(roc_auc)\n",
        "\n",
        "  valid_pred = model.predict(valid_X)\n",
        "  false_positive_rate, true_positive_rate, thresholds = roc_curve(valid_y, valid_pred)\n",
        "  roc_auc = auc(false_positive_rate, true_positive_rate)\n",
        "  valid_results.append(roc_auc)\n",
        "\n",
        "line1, = plt.plot(list_min_samples_splits, train_results, 'b', label='Train AUC')\n",
        "line2, = plt.plot(list_min_samples_splits, valid_results, 'r', label='Valid AUC')\n",
        "plt.legend(handler_map={line1: HandlerLine2D(numpoints=2)})\n",
        "plt.ylabel('AUC score')\n",
        "plt.xlabel('min_samples_splits')\n",
        "plt.show()"
      ],
      "execution_count": 0,
      "outputs": [
        {
          "output_type": "display_data",
          "data": {
            "image/png": "[encoded data removed]",
            "text/plain": [
              "<Figure size 432x288 with 1 Axes>"
            ]
          },
          "metadata": {
            "tags": []
          }
        }
      ]
    },
    {
      "cell_type": "markdown",
      "metadata": {
        "id": "_C-MM2B0Z6vr",
        "colab_type": "text"
      },
      "source": [
        "###min_samples_leaf"
      ]
    },
    {
      "cell_type": "code",
      "metadata": {
        "id": "JoBwEhPsaWlt",
        "colab_type": "code",
        "outputId": "c35c3938-6225-4b8b-ef85-f293e83253f2",
        "colab": {
          "base_uri": "https://localhost:8080/",
          "height": 284
        }
      },
      "source": [
        "list_min_samples_leafs = np.linspace(0.1, 0.5, 5, endpoint=True)\n",
        "train_results = []\n",
        "valid_results = []\n",
        "\n",
        "for val_min_samples_leaf in list_min_samples_leafs:\n",
        "  model = RandomForestClassifier(min_samples_leaf=val_min_samples_leaf, n_jobs=-1)\n",
        "  model.fit(train_X, train_y)\n",
        "\n",
        "  train_pred = model.predict(train_X)\n",
        "  false_positive_rate, true_positive_rate, thresholds = roc_curve(train_y, train_pred)\n",
        "  roc_auc = auc(false_positive_rate, true_positive_rate)\n",
        "  train_results.append(roc_auc)\n",
        "\n",
        "  valid_pred = model.predict(valid_X)\n",
        "  false_positive_rate, true_positive_rate, thresholds = roc_curve(valid_y, valid_pred)\n",
        "  roc_auc = auc(false_positive_rate, true_positive_rate)\n",
        "  valid_results.append(roc_auc)\n",
        "\n",
        "line1, = plt.plot(list_min_samples_leafs, train_results, 'b', label='Train AUC')\n",
        "line2, = plt.plot(list_min_samples_leafs, valid_results, 'r', label='Valid AUC')\n",
        "plt.legend(handler_map={line1: HandlerLine2D(numpoints=2)})\n",
        "plt.ylabel('AUC score')\n",
        "plt.xlabel('min_samples_leafs')\n",
        "plt.show()"
      ],
      "execution_count": 0,
      "outputs": [
        {
          "output_type": "display_data",
          "data": {
            "image/png": "[encoded data removed]",
            "text/plain": [
              "<Figure size 432x288 with 1 Axes>"
            ]
          },
          "metadata": {
            "tags": []
          }
        }
      ]
    },
    {
      "cell_type": "markdown",
      "metadata": {
        "id": "2fbEFvylaF49",
        "colab_type": "text"
      },
      "source": [
        "###max_features"
      ]
    },
    {
      "cell_type": "code",
      "metadata": {
        "id": "9Npj6VKKaX3u",
        "colab_type": "code",
        "outputId": "82eec1d8-b956-478c-b622-0a9552cd0edf",
        "colab": {
          "base_uri": "https://localhost:8080/",
          "height": 284
        }
      },
      "source": [
        "list_max_features = list(range(1,train_data.shape[1]))\n",
        "train_results = []\n",
        "valid_results = []\n",
        "\n",
        "for val_max_feature in list_max_features:\n",
        "  model = RandomForestClassifier(max_features=val_max_feature, n_jobs=-1)\n",
        "  model.fit(train_X, train_y)\n",
        "\n",
        "  train_pred = model.predict(train_X)\n",
        "  false_positive_rate, true_positive_rate, thresholds = roc_curve(train_y, train_pred)\n",
        "  roc_auc = auc(false_positive_rate, true_positive_rate)\n",
        "  train_results.append(roc_auc)\n",
        "\n",
        "  valid_pred = model.predict(valid_X)\n",
        "  false_positive_rate, true_positive_rate, thresholds = roc_curve(valid_y, valid_pred)\n",
        "  roc_auc = auc(false_positive_rate, true_positive_rate)\n",
        "  valid_results.append(roc_auc)\n",
        "\n",
        "line1, = plt.plot(list_max_features, train_results, 'b', label='Train AUC')\n",
        "line2, = plt.plot(list_max_features, valid_results, 'r', label='Valid AUC')\n",
        "plt.legend(handler_map={line1: HandlerLine2D(numpoints=2)})\n",
        "plt.ylabel('AUC score')\n",
        "plt.xlabel('max_features')\n",
        "plt.show()"
      ],
      "execution_count": 0,
      "outputs": [
        {
          "output_type": "display_data",
          "data": {
            "image/png": "[encoded data removed]",
            "text/plain": [
              "<Figure size 432x288 with 1 Axes>"
            ]
          },
          "metadata": {
            "tags": []
          }
        }
      ]
    },
    {
      "cell_type": "markdown",
      "metadata": {
        "id": "_It80-Pqfmt1",
        "colab_type": "text"
      },
      "source": [
        "##Prevendo o modelo com dados de treino"
      ]
    },
    {
      "cell_type": "markdown",
      "metadata": {
        "id": "FMlTH_wVjBib",
        "colab_type": "text"
      },
      "source": [
        "###Rodando com os valores default"
      ]
    },
    {
      "cell_type": "code",
      "metadata": {
        "id": "fNzxQPDci8AE",
        "colab_type": "code",
        "outputId": "7c3fc317-7800-488d-e4d2-35472b566f05",
        "colab": {
          "base_uri": "https://localhost:8080/",
          "height": 34
        }
      },
      "source": [
        "#model = RandomForestClassifier(max_depth=10)\n",
        "model = RandomForestClassifier()\n",
        "model.fit(train_X, train_y)\n",
        "predictions = model.predict(valid_X)\n",
        "\n",
        "np.mean(valid_y == predictions)"
      ],
      "execution_count": 0,
      "outputs": [
        {
          "output_type": "execute_result",
          "data": {
            "text/plain": [
              "0.8430493273542601"
            ]
          },
          "metadata": {
            "tags": []
          },
          "execution_count": 275
        }
      ]
    },
    {
      "cell_type": "markdown",
      "metadata": {
        "id": "Ya3LwPJxK4x8",
        "colab_type": "text"
      },
      "source": [
        "### Rodando com valores corrigidos"
      ]
    },
    {
      "cell_type": "code",
      "metadata": {
        "id": "OsIrQxlcK5Ls",
        "colab_type": "code",
        "outputId": "13b774e1-508c-4e8f-ca9b-2a02ccf7f0c1",
        "colab": {
          "base_uri": "https://localhost:8080/",
          "height": 34
        }
      },
      "source": [
        "model = RandomForestClassifier(n_estimators=32, max_depth=20, min_samples_split = 0.1, min_samples_leaf = 0.1, max_features = 6)\n",
        "model.fit(train_X, train_y)\n",
        "predictions = model.predict(valid_X)\n",
        "\n",
        "np.mean(valid_y == predictions)"
      ],
      "execution_count": 0,
      "outputs": [
        {
          "output_type": "execute_result",
          "data": {
            "text/plain": [
              "0.7892376681614349"
            ]
          },
          "metadata": {
            "tags": []
          },
          "execution_count": 10
        }
      ]
    },
    {
      "cell_type": "markdown",
      "metadata": {
        "id": "wS3BN6pl3nIh",
        "colab_type": "text"
      },
      "source": [
        "##Montando a matriz de confusão"
      ]
    },
    {
      "cell_type": "code",
      "metadata": {
        "id": "XEIVT5O83vlD",
        "colab_type": "code",
        "colab": {}
      },
      "source": [
        "def CMatrix(CM,labels =['Não Sobrevivente','Sobrevivente']):\n",
        "    df = pd.DataFrame( data = CM, index = labels, columns = labels)\n",
        "    df.index.name ='Real'\n",
        "    df.columns.name = 'Previsto'\n",
        "    df.loc['Total']= df.sum()\n",
        "    df['Total']= df.sum(axis=1)\n",
        "    return df "
      ],
      "execution_count": 0,
      "outputs": []
    },
    {
      "cell_type": "code",
      "metadata": {
        "id": "Skukpvzi309_",
        "colab_type": "code",
        "colab": {}
      },
      "source": [
        "#y_pred_test_log = logistic_regression.predict(valid_X) \n",
        "model = RandomForestClassifier(max_depth=10)\n",
        "model.fit(train_X, train_y)\n",
        "y_pred_test_log = model.predict(valid_X) \n",
        "\n",
        "acuracia_log = accuracy_score(y_pred=y_pred_test_log,y_true=valid_y)\n",
        "precisao_log = precision_score(y_pred=y_pred_test_log,y_true=valid_y)\n",
        "recall_log = recall_score(y_pred=y_pred_test_log,y_true=valid_y)\n",
        "\n",
        "CM= confusion_matrix(y_pred=y_pred_test_log,y_true=valid_y)\n",
        "CMatrix(CM)"
      ],
      "execution_count": 0,
      "outputs": []
    },
    {
      "cell_type": "markdown",
      "metadata": {
        "id": "4ypZrk3Hlyuj",
        "colab_type": "text"
      },
      "source": [
        "###Exportanto os resultados para validar"
      ]
    },
    {
      "cell_type": "code",
      "metadata": {
        "id": "Q5_BJ4_qHc5g",
        "colab_type": "code",
        "colab": {}
      },
      "source": [
        "#sobreviveu 0 = No, 1 = Yes\n",
        "\n",
        "Prev = pd.Series(y_pred_test_log)\n",
        "Prev.to_excel(\"Previsão.xlsx\", header=False)\n",
        "Real = pd.Series(valid_y)\n",
        "Real.to_excel(\"Real.xlsx\", header=False)"
      ],
      "execution_count": 0,
      "outputs": []
    },
    {
      "cell_type": "markdown",
      "metadata": {
        "id": "cWhfbtFoYpDt",
        "colab_type": "text"
      },
      "source": [
        "#Treinando com a base de treino inteira e prevendo com a base de teste"
      ]
    },
    {
      "cell_type": "markdown",
      "metadata": {
        "id": "0bcLiKJneLht",
        "colab_type": "text"
      },
      "source": [
        "## Populando o X de teste"
      ]
    },
    {
      "cell_type": "code",
      "metadata": {
        "id": "2_sIRBMtG8Lw",
        "colab_type": "code",
        "colab": {}
      },
      "source": [
        "X_test = pd.get_dummies(test_data[variaveis])\n",
        "\n",
        "X_test['Fare'] = test_data['Fare']\n",
        "X_test['Age'] = test_data['Age']\n",
        "\n",
        "X_test['Criança'] = test_data['Criança']\n",
        "X_test['Adolescente'] = test_data['Adolescente']\n",
        "X_test['Jovem'] = test_data['Jovem']\n",
        "X_test['Adulto'] = test_data['Adulto']\n",
        "X_test['Idosos'] = test_data['Idosos']\n",
        "\n",
        "X_test['Tamanho_nome'] = test_data['Tamanho_nome']\n",
        "X_test['Sozinho'] = test_data['Sozinho']\n",
        "\n",
        "X_test['Cabin_A'] = test_data['Cabin_A']\n",
        "X_test['Cabin_B'] = test_data['Cabin_B']\n",
        "X_test['Cabin_C'] = test_data['Cabin_C']\n",
        "X_test['Cabin_D'] = test_data['Cabin_D']\n",
        "X_test['Cabin_E'] = test_data['Cabin_E']\n",
        "X_test['Cabin_F'] = test_data['Cabin_F']\n",
        "X_test['Cabin_G'] = test_data['Cabin_G']\n",
        "\n",
        "X_test['upper_cabins'] = test_data['upper_cabins']\n",
        "X_test['middle_cabins'] = test_data['middle_cabins']\n",
        "X_test['low_cabins'] = test_data['low_cabins']"
      ],
      "execution_count": 0,
      "outputs": []
    },
    {
      "cell_type": "markdown",
      "metadata": {
        "id": "Tnd3WoqQhmQz",
        "colab_type": "text"
      },
      "source": [
        "## Rodando com a base train inteira, valores corrigidos e prevendo com a base de teste"
      ]
    },
    {
      "cell_type": "code",
      "metadata": {
        "id": "VLo2XVcLhmxk",
        "colab_type": "code",
        "colab": {}
      },
      "source": [
        "#model = RandomForestClassifier(n_estimators=20, max_depth=10, min_samples_split = 0.1, min_samples_leaf = 0.1, max_features = 6)\n",
        "model = LogisticRegression()\n",
        "model.fit(X, y)\n",
        "predictions = model.predict(X_test)\n",
        "\n"
      ],
      "execution_count": 0,
      "outputs": []
    },
    {
      "cell_type": "markdown",
      "metadata": {
        "id": "k7bV214wf1Kx",
        "colab_type": "text"
      },
      "source": [
        "## Criar submission"
      ]
    },
    {
      "cell_type": "code",
      "metadata": {
        "id": "ndIjGY14Jz0Y",
        "colab_type": "code",
        "colab": {}
      },
      "source": [
        "sub = pd.Series(predictions, index=test_data['PassengerId'], name='Survived')\n",
        "sub.to_csv(\"Nova submissão.csv\", header=True)"
      ],
      "execution_count": 0,
      "outputs": []
    },
    {
      "cell_type": "code",
      "metadata": {
        "id": "gU0tCN-XJ6QB",
        "colab_type": "code",
        "outputId": "03a3db5a-11c1-4f45-f382-40982a32ce14",
        "colab": {
          "base_uri": "https://localhost:8080/",
          "height": 34
        }
      },
      "source": [
        "!head -n10 \"Nova submissão.csv\""
      ],
      "execution_count": 0,
      "outputs": [
        {
          "output_type": "stream",
          "text": [
            "head: cannot open 'Sub RandomForest.csv' for reading: No such file or directory\n"
          ],
          "name": "stdout"
        }
      ]
    }
  ]
}